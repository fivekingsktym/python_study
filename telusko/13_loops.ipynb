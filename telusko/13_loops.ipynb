{
 "cells": [
  {
   "cell_type": "markdown",
   "metadata": {},
   "source": [
    "### Loop statements in python\n",
    "\n",
    "While, For"
   ]
  },
  {
   "cell_type": "code",
   "execution_count": 1,
   "metadata": {},
   "outputs": [
    {
     "name": "stdout",
     "output_type": "stream",
     "text": [
      "While statement is true\n",
      "While statement is true\n",
      "While statement is true\n",
      "While statement is true\n",
      "While statement is true\n",
      "While statement is true\n",
      "While statement is true\n",
      "While statement is true\n",
      "While statement is true\n",
      "While statement is true\n"
     ]
    }
   ],
   "source": [
    "# While\n",
    "num = 0\n",
    "\n",
    "while True:\n",
    "    print('While statement is true')\n",
    "    num += 1\n",
    "    if num == 10:\n",
    "        break"
   ]
  },
  {
   "cell_type": "code",
   "execution_count": 7,
   "metadata": {},
   "outputs": [
    {
     "name": "stdout",
     "output_type": "stream",
     "text": [
      "While statement is true\n",
      "inner While statement is true\n",
      "inner While statement is true\n",
      "inner While statement is true\n",
      "inner While statement is true\n",
      "While statement is true\n",
      "inner While statement is true\n",
      "inner While statement is true\n",
      "inner While statement is true\n",
      "inner While statement is true\n",
      "While statement is true\n",
      "inner While statement is true\n",
      "inner While statement is true\n",
      "inner While statement is true\n",
      "inner While statement is true\n",
      "While statement is true\n",
      "inner While statement is true\n",
      "inner While statement is true\n",
      "inner While statement is true\n",
      "inner While statement is true\n",
      "While statement is true\n",
      "inner While statement is true\n",
      "inner While statement is true\n",
      "inner While statement is true\n",
      "inner While statement is true\n"
     ]
    }
   ],
   "source": [
    "# While\n",
    "i = 1\n",
    "\n",
    "while i <= 5:\n",
    "    print('While statement is true')\n",
    "    \n",
    "    j = 1\n",
    "    while j <= 4:\n",
    "        print('inner While statement is true')\n",
    "        j += 1\n",
    "\n",
    "    i += 1"
   ]
  },
  {
   "cell_type": "code",
   "execution_count": null,
   "metadata": {},
   "outputs": [],
   "source": []
  }
 ],
 "metadata": {
  "kernelspec": {
   "display_name": "Python 3 (ipykernel)",
   "language": "python",
   "name": "python3"
  },
  "language_info": {
   "codemirror_mode": {
    "name": "ipython",
    "version": 3
   },
   "file_extension": ".py",
   "mimetype": "text/x-python",
   "name": "python",
   "nbconvert_exporter": "python",
   "pygments_lexer": "ipython3",
   "version": "3.10.13"
  }
 },
 "nbformat": 4,
 "nbformat_minor": 2
}
