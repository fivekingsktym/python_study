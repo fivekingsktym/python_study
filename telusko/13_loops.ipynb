{
 "cells": [
  {
   "cell_type": "markdown",
   "metadata": {},
   "source": [
    "### Loop statements in python\n",
    "\n",
    "While, For"
   ]
  },
  {
   "cell_type": "code",
   "execution_count": 1,
   "metadata": {},
   "outputs": [
    {
     "name": "stdout",
     "output_type": "stream",
     "text": [
      "While statement is true\n",
      "While statement is true\n",
      "While statement is true\n",
      "While statement is true\n",
      "While statement is true\n",
      "While statement is true\n",
      "While statement is true\n",
      "While statement is true\n",
      "While statement is true\n",
      "While statement is true\n"
     ]
    }
   ],
   "source": [
    "# While\n",
    "num = 0\n",
    "\n",
    "while True:\n",
    "    print('While statement is true')\n",
    "    num += 1\n",
    "    if num == 10:\n",
    "        break"
   ]
  },
  {
   "cell_type": "code",
   "execution_count": 7,
   "metadata": {},
   "outputs": [
    {
     "name": "stdout",
     "output_type": "stream",
     "text": [
      "While statement is true\n",
      "inner While statement is true\n",
      "inner While statement is true\n",
      "inner While statement is true\n",
      "inner While statement is true\n",
      "While statement is true\n",
      "inner While statement is true\n",
      "inner While statement is true\n",
      "inner While statement is true\n",
      "inner While statement is true\n",
      "While statement is true\n",
      "inner While statement is true\n",
      "inner While statement is true\n",
      "inner While statement is true\n",
      "inner While statement is true\n",
      "While statement is true\n",
      "inner While statement is true\n",
      "inner While statement is true\n",
      "inner While statement is true\n",
      "inner While statement is true\n",
      "While statement is true\n",
      "inner While statement is true\n",
      "inner While statement is true\n",
      "inner While statement is true\n",
      "inner While statement is true\n"
     ]
    }
   ],
   "source": [
    "# While\n",
    "i = 1\n",
    "\n",
    "while i <= 5:\n",
    "    print('While statement is true')\n",
    "    \n",
    "    j = 1\n",
    "    while j <= 4:\n",
    "        print('inner While statement is true')\n",
    "        j += 1\n",
    "\n",
    "    i += 1"
   ]
  },
  {
   "cell_type": "markdown",
   "metadata": {},
   "source": [
    "For loop"
   ]
  },
  {
   "cell_type": "code",
   "execution_count": 1,
   "metadata": {},
   "outputs": [
    {
     "name": "stdout",
     "output_type": "stream",
     "text": [
      "apple\n",
      "orange\n",
      "grape\n",
      "banana\n",
      "kiwi\n",
      "mango\n"
     ]
    }
   ],
   "source": [
    "# for\n",
    "data = ['apple', 'orange', 'grape', 'banana', 'kiwi', 'mango']\n",
    "\n",
    "for i in data:\n",
    "    print(i)"
   ]
  },
  {
   "cell_type": "code",
   "execution_count": 2,
   "metadata": {},
   "outputs": [
    {
     "name": "stdout",
     "output_type": "stream",
     "text": [
      "1\n",
      "2\n",
      "3\n",
      "4\n",
      "5\n"
     ]
    }
   ],
   "source": [
    "# example\n",
    "for x in [1, 2, 3, 4, 5]:\n",
    "    print(x)"
   ]
  },
  {
   "cell_type": "code",
   "execution_count": 9,
   "metadata": {},
   "outputs": [
    {
     "name": "stdout",
     "output_type": "stream",
     "text": [
      "1\n",
      "2\n",
      "3\n",
      "4\n",
      "5\n"
     ]
    }
   ],
   "source": [
    "# Range(starting_num, ending_num, num_difference)\n",
    "\n",
    "for y in range(1, 5+1):\n",
    "    print(y)"
   ]
  },
  {
   "cell_type": "code",
   "execution_count": 14,
   "metadata": {},
   "outputs": [
    {
     "name": "stdout",
     "output_type": "stream",
     "text": [
      "5\n",
      "4\n",
      "3\n",
      "2\n",
      "1\n"
     ]
    }
   ],
   "source": [
    "#  printing the range in reverse order\n",
    "for a in range(5, 0, -1):\n",
    "    print(a)"
   ]
  }
 ],
 "metadata": {
  "kernelspec": {
   "display_name": "Python 3 (ipykernel)",
   "language": "python",
   "name": "python3"
  },
  "language_info": {
   "codemirror_mode": {
    "name": "ipython",
    "version": 3
   },
   "file_extension": ".py",
   "mimetype": "text/x-python",
   "name": "python",
   "nbconvert_exporter": "python",
   "pygments_lexer": "ipython3",
   "version": "3.12.1"
  }
 },
 "nbformat": 4,
 "nbformat_minor": 2
}
