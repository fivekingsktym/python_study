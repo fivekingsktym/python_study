{
 "cells": [
  {
   "cell_type": "markdown",
   "metadata": {},
   "source": [
    "### polymorphism in python\n",
    "\n",
    "poly -> means \"many\" <br>\n",
    "morphism -> means \"form\" <br>\n",
    "\n",
    "#### 4 ways to implement polymorphism\n",
    "- Duck typing\n",
    "- Operator overloading\n",
    "- Method overloading\n",
    "- Method overriding"
   ]
  },
  {
   "cell_type": "markdown",
   "metadata": {},
   "source": [
    "#### Duck typing\n",
    "\n",
    "- if it look like a duck, swims like a duck, and quacks like a duck, then it probably is a duck\n",
    "\n",
    "- Duck typing in Python is a programming concept where the type or the class of an object is less important than the methods it defines. When you use duck typing, you do not check types at all. Instead, you check for the presence of a given method or attribute."
   ]
  },
  {
   "cell_type": "code",
   "execution_count": 3,
   "metadata": {},
   "outputs": [
    {
     "name": "stdout",
     "output_type": "stream",
     "text": [
      "Running Pycharm\n",
      "Running Vscode\n"
     ]
    }
   ],
   "source": [
    "# duck typing exmaple1 using class\n",
    "\n",
    "class Pycharm:\n",
    "\n",
    "    def execute(self):\n",
    "        print('Running Pycharm')\n",
    "\n",
    "class Vscode:\n",
    "    \n",
    "    def execute(self):\n",
    "        print(\"Running Vscode\")\n",
    "\n",
    "class Laptop:\n",
    "\n",
    "    def code(self, ide):\n",
    "        ide.execute()\n",
    "\n",
    "lap1 = Laptop()\n",
    "lap1.code(Pycharm())\n",
    "lap1.code(Vscode())\n"
   ]
  },
  {
   "cell_type": "code",
   "execution_count": 21,
   "metadata": {},
   "outputs": [
    {
     "name": "stdout",
     "output_type": "stream",
     "text": [
      "Bird quacking\n",
      "Duck quacking\n",
      "Human speaking\n"
     ]
    }
   ],
   "source": [
    "# duck typing exmaple2 using class\n",
    "\n",
    "class Bird:\n",
    "  def quack(self):\n",
    "    print('Bird quacking')\n",
    "\n",
    "class Duck:\n",
    "  def quack(self):\n",
    "    print('Duck quacking')\n",
    "\n",
    "class Person:\n",
    "  def quack(self):\n",
    "    print('Human speaking')\n",
    "\n",
    "\n",
    "# using class\n",
    "class test:\n",
    "    def make_quack(self, obj):\n",
    "        obj.quack()\n",
    "\n",
    "    \n",
    "\n",
    "objects = [Bird(), Duck(), Person()]\n",
    "\n",
    "_test = test()\n",
    "\n",
    "for obj in objects:\n",
    "  _test.make_quack(obj)"
   ]
  },
  {
   "cell_type": "code",
   "execution_count": 28,
   "metadata": {},
   "outputs": [
    {
     "name": "stdout",
     "output_type": "stream",
     "text": [
      "Bird quacking\n",
      "Duck quacking\n",
      "Human speaking\n"
     ]
    }
   ],
   "source": [
    "# duck typing exmaple2 using function\n",
    "\n",
    "class Bird:\n",
    "  def quack(self):\n",
    "    print('Bird quacking')\n",
    "\n",
    "class Duck:\n",
    "  def quack(self):\n",
    "    print('Duck quacking')\n",
    "\n",
    "class Person:\n",
    "  def quack(self):\n",
    "    print('Human speaking')\n",
    "\n",
    "\n",
    "# using funcion\n",
    "def make_quack(obj):\n",
    "  obj.quack()\n",
    "\n",
    "objects = [Bird(), Duck(), Person()]\n",
    "\n",
    "for obj in objects:\n",
    "  make_quack(obj)"
   ]
  },
  {
   "cell_type": "code",
   "execution_count": 15,
   "metadata": {},
   "outputs": [
    {
     "name": "stdout",
     "output_type": "stream",
     "text": [
      "Quack!\n",
      "Woof!\n"
     ]
    }
   ],
   "source": [
    "# Example of Duck-typing\n",
    "\n",
    "class Duck:\n",
    "    def quack(self):\n",
    "        print(\"Quack!\")\n",
    "\n",
    "    def fly(self):\n",
    "        print(\"Flying\")\n",
    "\n",
    "class Dog:\n",
    "    def bark(self):\n",
    "        print(\"Woof!\")\n",
    "\n",
    "    def run(self):\n",
    "        print(\"Running\")\n",
    "\n",
    "def make_sound(animal):\n",
    "                            # object   funcion-name\n",
    "    animal.quack() if hasattr(animal, 'quack') else animal.bark()\n",
    "\n",
    "# Using duck typing\n",
    "duck = Duck()\n",
    "dog = Dog()\n",
    "\n",
    "make_sound(duck)  # Outputs: Quack!\n",
    "make_sound(dog)   # Outputs: Woof!\n"
   ]
  }
 ],
 "metadata": {
  "kernelspec": {
   "display_name": "Python 3",
   "language": "python",
   "name": "python3"
  },
  "language_info": {
   "codemirror_mode": {
    "name": "ipython",
    "version": 3
   },
   "file_extension": ".py",
   "mimetype": "text/x-python",
   "name": "python",
   "nbconvert_exporter": "python",
   "pygments_lexer": "ipython3",
   "version": "3.12.1"
  }
 },
 "nbformat": 4,
 "nbformat_minor": 2
}
