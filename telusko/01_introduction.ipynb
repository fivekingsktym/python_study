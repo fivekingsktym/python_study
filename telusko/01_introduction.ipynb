{
 "cells": [
  {
   "cell_type": "markdown",
   "metadata": {},
   "source": [
    "Introduction of python"
   ]
  },
  {
   "cell_type": "code",
   "execution_count": 46,
   "metadata": {},
   "outputs": [
    {
     "name": "stdout",
     "output_type": "stream",
     "text": [
      "Numbers(int, float) with arithmetic operation:- \n",
      "\n",
      "1:-> Additon: 5\n",
      "2:-> Substration: 2\n",
      "3:-> Multiplication: 8\n",
      "4:-> Normal Division: 2.5\n",
      "5:-> Floor division: 2\n",
      "6:-> : Exponentiation operator(power-of): 8\n",
      "7:-> : Modulus operator: 1\n"
     ]
    }
   ],
   "source": [
    "# Numbers(int, float) with arithmetic operation\n",
    "print(\"Numbers(int, float) with arithmetic operation:- \\n\")\n",
    "\n",
    "print(\"1:-> Additon:\", 2+3)\n",
    "print(\"2:-> Substration:\", 5-3)\n",
    "print(\"3:-> Multiplication:\", 4*2)\n",
    "print(\"4:-> Normal Division:\", 5/2)\n",
    "\n",
    "#Floor division always returns the largest integer that is less than or equal to the result of the division. \n",
    "# In this case, 5//2 would result in 2 because 2 is the largest integer less than or equal to 2.5.\n",
    "print(\"5:-> Floor division:\", 5//2)\n",
    "\n",
    "print(\"6:-> : Exponentiation operator(power-of):\", 2**3)\n",
    "\n",
    "print(\"7:-> : Modulus operator:\", 3%2)\n"
   ]
  },
  {
   "cell_type": "code",
   "execution_count": 47,
   "metadata": {},
   "outputs": [
    {
     "name": "stdout",
     "output_type": "stream",
     "text": [
      "Strings:- \n",
      "\n",
      "1:-> : Hello world\n",
      "2:-> Escape sequence single qoute: 1.Arun's \"laptop\"\n",
      "3:-> Escape sequence double qoute: 2.Arun\"s \"laptop\"\n",
      "4:-> Concatination: HelloWorld\n",
      "5:-> String multiplication: HelloHelloHelloHelloHelloHelloHelloHelloHelloHello\n",
      "\n",
      "\\n problem\n",
      "6:-> \\n problem: c:\\docs\n",
      "avin\n",
      "7:-> \\n solution: c:\\docs\\navin\n",
      "8:-> or use raw string: c:\\docs\\navin\n"
     ]
    }
   ],
   "source": [
    "# Strings\n",
    "print(\"Strings:- \\n\")\n",
    "print(\"1:-> :\", \"Hello world\")\n",
    "print(\"2:-> Escape sequence single qoute:\", '1.Arun\\'s \"laptop\"')\n",
    "print(\"3:-> Escape sequence double qoute:\", \"2.Arun\\\"s \\\"laptop\\\"\")\n",
    "print(\"4:-> Concatination:\", \"Hello\" + \"World\")\n",
    "print(\"5:-> String multiplication:\", \"Hello\"*10)\n",
    "\n",
    "# \\n problem\n",
    "print(\"\\n\\\\n problem\")\n",
    "print(\"6:-> \\\\n problem:\", \"c:\\docs\\navin\") # in python '\\n' means a new line\n",
    "print(\"7:-> \\\\n solution:\", \"c:\\docs\\\\navin\") # add escape character '\\' before the \"\\n\"\n",
    "print(\"8:-> or use raw string:\", r\"c:\\docs\\navin\") # raw string will solve the \"\\n\" problem"
   ]
  }
 ],
 "metadata": {
  "kernelspec": {
   "display_name": "Python 3",
   "language": "python",
   "name": "python3"
  },
  "language_info": {
   "codemirror_mode": {
    "name": "ipython",
    "version": 3
   },
   "file_extension": ".py",
   "mimetype": "text/x-python",
   "name": "python",
   "nbconvert_exporter": "python",
   "pygments_lexer": "ipython3",
   "version": "3.10.8"
  }
 },
 "nbformat": 4,
 "nbformat_minor": 2
}
