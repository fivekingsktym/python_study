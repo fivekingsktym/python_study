{
 "cells": [
  {
   "cell_type": "markdown",
   "metadata": {},
   "source": [
    "Introduction of python"
   ]
  },
  {
   "cell_type": "code",
   "execution_count": 46,
   "metadata": {},
   "outputs": [
    {
     "name": "stdout",
     "output_type": "stream",
     "text": [
      "Numbers(int, float) with arithmetic operation:- \n",
      "\n",
      "1:-> Additon: 5\n",
      "2:-> Substration: 2\n",
      "3:-> Multiplication: 8\n",
      "4:-> Normal Division: 2.5\n",
      "5:-> Floor division: 2\n",
      "6:-> : Exponentiation operator(power-of): 8\n",
      "7:-> : Modulus operator: 1\n"
     ]
    }
   ],
   "source": [
    "# Numbers(int, float) with arithmetic operation\n",
    "print(\"Numbers(int, float) with arithmetic operation:- \\n\")\n",
    "\n",
    "print(\"1:-> Additon:\", 2+3)\n",
    "print(\"2:-> Substration:\", 5-3)\n",
    "print(\"3:-> Multiplication:\", 4*2)\n",
    "print(\"4:-> Normal Division:\", 5/2)\n",
    "\n",
    "#Floor division always returns the largest integer that is less than or equal to the result of the division. \n",
    "# In this case, 5//2 would result in 2 because 2 is the largest integer less than or equal to 2.5.\n",
    "print(\"5:-> Floor division:\", 5//2)\n",
    "\n",
    "print(\"6:-> : Exponentiation operator(power-of):\", 2**3)\n",
    "\n",
    "print(\"7:-> : Modulus operator:\", 3%2)\n"
   ]
  },
  {
   "cell_type": "code",
   "execution_count": 47,
   "metadata": {},
   "outputs": [
    {
     "name": "stdout",
     "output_type": "stream",
     "text": [
      "Strings:- \n",
      "\n",
      "1:-> : Hello world\n",
      "2:-> Escape sequence single qoute: 1.Arun's \"laptop\"\n",
      "3:-> Escape sequence double qoute: 2.Arun\"s \"laptop\"\n",
      "4:-> Concatination: HelloWorld\n",
      "5:-> String multiplication: HelloHelloHelloHelloHelloHelloHelloHelloHelloHello\n",
      "\n",
      "\\n problem\n",
      "6:-> \\n problem: c:\\docs\n",
      "avin\n",
      "7:-> \\n solution: c:\\docs\\navin\n",
      "8:-> or use raw string: c:\\docs\\navin\n"
     ]
    }
   ],
   "source": [
    "# Strings\n",
    "print(\"Strings:- \\n\")\n",
    "print(\"1:-> :\", \"Hello world\")\n",
    "print(\"2:-> Escape sequence single qoute:\", '1.Arun\\'s \"laptop\"')\n",
    "print(\"3:-> Escape sequence double qoute:\", \"2.Arun\\\"s \\\"laptop\\\"\")\n",
    "print(\"4:-> Concatination:\", \"Hello\" + \"World\")\n",
    "print(\"5:-> String multiplication:\", \"Hello\"*10)\n",
    "\n",
    "# \\n problem\n",
    "print(\"\\n\\\\n problem\")\n",
    "print(\"6:-> \\\\n problem:\", \"c:\\docs\\navin\") # in python '\\n' means a new line\n",
    "print(\"7:-> \\\\n solution:\", \"c:\\docs\\\\navin\") # add escape character '\\' before the \"\\n\"\n",
    "print(\"8:-> or use raw string:\", r\"c:\\docs\\navin\") # raw string will solve the \"\\n\" problem"
   ]
  },
  {
   "cell_type": "markdown",
   "metadata": {},
   "source": [
    "Variables"
   ]
  },
  {
   "cell_type": "code",
   "execution_count": 126,
   "metadata": {},
   "outputs": [
    {
     "name": "stdout",
     "output_type": "stream",
     "text": [
      "1:-  Hello my name is raju\n",
      "2:-  1 \n",
      "\n",
      "3:- variable starting order-> H\n",
      "4:- variable ending order-> u \n",
      "\n",
      "5:-  it will print complete string [0 to -1]-> Hello my name is raju\n",
      "6:- variable starting order between  [2 position to 5] -> Hello or Hello \n",
      "\n",
      "7:- variable starting order between [0 position to -1], It will not make any error-> Hello my name is raju\n",
      "8:- variable starting order between [1000 position to infinity], position 1000 is not exit, It will not make any error->  \n",
      "\n",
      "9:- variable starting order between [0 position to -1] -> Hello my name is raju\n",
      "10:- variable ending order between [-4 position to -1] -> raju\n",
      "11:- variable string concatenation -> Iam raju\n"
     ]
    }
   ],
   "source": [
    "# String in python are immutable\n",
    "\n",
    "data = \"Hello my name is raju\"\n",
    "num = 1\n",
    "\n",
    "print(\"1:- \" ,data)\n",
    "print(\"2:- \" ,num, \"\\n\")\n",
    "\n",
    "\n",
    "print(\"3:- variable starting order->\", data[0])\n",
    "print(\"4:- variable ending order->\", data[-1], \"\\n\")\n",
    "\n",
    "print(\"5:-  it will print complete string [0 to -1]->\", data[:])\n",
    "                                                        # both are same\n",
    "print(\"6:- variable starting order between  [2 position to 5] ->\", data[:5], \"or\", data[0:5], \"\\n\")\n",
    "\n",
    "print(\"7:- variable starting order between [0 position to -1], It will not make any error->\", data[0:1000])\n",
    "# length of the string is less than 1000, the output will be an empty string (''), and this \"data[1000]\" will make an IndexError\n",
    "print(\"8:- variable starting order between [1000 position to infinity], position 1000 is not exit, It will not make any error->\", data[1000:], \"\\n\")\n",
    "\n",
    "print(\"9:- variable starting order between [0 position to -1] ->\", data[0:])\n",
    "print(\"10:- variable ending order between [-4 position to -1] ->\", data[-4:])\n",
    "print(\"11:- variable string concatenation ->\", \"Iam \" + data[-4:])\n",
    "\n",
    "\n"
   ]
  }
 ],
 "metadata": {
  "kernelspec": {
   "display_name": "Python 3",
   "language": "python",
   "name": "python3"
  },
  "language_info": {
   "codemirror_mode": {
    "name": "ipython",
    "version": 3
   },
   "file_extension": ".py",
   "mimetype": "text/x-python",
   "name": "python",
   "nbconvert_exporter": "python",
   "pygments_lexer": "ipython3",
   "version": "3.10.8"
  }
 },
 "nbformat": 4,
 "nbformat_minor": 2
}
