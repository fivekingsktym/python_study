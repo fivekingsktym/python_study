{
 "cells": [
  {
   "cell_type": "markdown",
   "metadata": {},
   "source": [
    "### Operators in python\n",
    "\n",
    "Arithmetic, Assignment, Relational, Logical, Unary"
   ]
  },
  {
   "cell_type": "markdown",
   "metadata": {},
   "source": [
    "- Arithmetic operator (+, -, *, /, %, //, **)"
   ]
  },
  {
   "cell_type": "code",
   "execution_count": 44,
   "metadata": {},
   "outputs": [
    {
     "name": "stdout",
     "output_type": "stream",
     "text": [
      "Addition :  7\n",
      "Substation :  1\n",
      "Multiplication :  12\n",
      "Division :  1.3333333333333333\n",
      "Modulus :  1 \n",
      "\n",
      "Interger Division :  1\n",
      "Exponent :  16\n"
     ]
    }
   ],
   "source": [
    "num1 = 4\n",
    "num2 = 3\n",
    "\n",
    "print('Addition : ', num1+num2)\n",
    "print('Substation : ', num1-num2)\n",
    "print('Multiplication : ', num1*num2)\n",
    "print('Division : ', num1/num2)\n",
    "print('Modulus : ', num1%num2, '\\n')\n",
    "\n",
    "print('Integer Division : ', num1//num2)\n",
    "print('Exponent : ', num1**2)"
   ]
  },
  {
   "cell_type": "markdown",
   "metadata": {},
   "source": [
    "- Assignment operator (=, +=, -=, *=, /=, %=, :=)"
   ]
  },
  {
   "cell_type": "code",
   "execution_count": 49,
   "metadata": {},
   "outputs": [
    {
     "name": "stdout",
     "output_type": "stream",
     "text": [
      "10 20 \n",
      "\n",
      "20 50\n",
      "BMW Hero\n"
     ]
    }
   ],
   "source": [
    "# Examples\n",
    "# = operator\n",
    "\n",
    "# assigning to one value each variable\n",
    "num1 = 10\n",
    "num2 = 20\n",
    "print(num1, num2, \"\\n\") \n",
    "\n",
    "\n",
    "# assigning to two value each variable in a single line\n",
    "value1, value2 = 20 , 50\n",
    "car, bike = 'BMW', 'Hero'\n",
    "\n",
    "print(value1, value2)\n",
    "print(car, bike)"
   ]
  },
  {
   "cell_type": "code",
   "execution_count": 10,
   "metadata": {},
   "outputs": [
    {
     "name": "stdout",
     "output_type": "stream",
     "text": [
      "5\n",
      "hello world\n"
     ]
    }
   ],
   "source": [
    "# Examples\n",
    "# += operator\n",
    "\n",
    "# Number addition\n",
    "num1 = 2\n",
    "num2 = 3\n",
    "num1 += num2 # in numbers, it will add the number and store to the assigned variable\n",
    "print(num1)\n",
    "\n",
    "# string addition\n",
    "str1 = 'hello'\n",
    "str2 = ' world'\n",
    "str1 += str2 # in strings, it will do the string concatenation and store to the assigned variable\n",
    "print(str1)"
   ]
  },
  {
   "cell_type": "code",
   "execution_count": 19,
   "metadata": {},
   "outputs": [
    {
     "name": "stdout",
     "output_type": "stream",
     "text": [
      "1\n"
     ]
    }
   ],
   "source": [
    "# -= operator\n",
    "\n",
    "# Number substation\n",
    "num1 = 3\n",
    "num2 = 2\n",
    "num1 -= num2 # in numbers, it will subtract the number and store to the assigned variable\n",
    "print(num1)\n",
    "\n",
    "# string substation is not possible"
   ]
  },
  {
   "cell_type": "code",
   "execution_count": 36,
   "metadata": {},
   "outputs": [
    {
     "name": "stdout",
     "output_type": "stream",
     "text": [
      "6\n"
     ]
    }
   ],
   "source": [
    "# *= operator\n",
    "\n",
    "# Number multiplication\n",
    "num1 = 3\n",
    "num2 = 2\n",
    "num1 *= num2 # in numbers, it will multiply the number and store to the assigned variable\n",
    "print(num1)\n",
    "\n",
    "# string multiplication is not possible"
   ]
  },
  {
   "cell_type": "code",
   "execution_count": 41,
   "metadata": {},
   "outputs": [
    {
     "name": "stdout",
     "output_type": "stream",
     "text": [
      "2.0\n"
     ]
    }
   ],
   "source": [
    "# /= operator\n",
    "\n",
    "# Number division\n",
    "num1 = 4\n",
    "num2 = 2\n",
    "num1 /= num2 # in numbers, it will divide the number and store to the assigned variable\n",
    "print(num1)\n",
    "\n",
    "# string division is not possible"
   ]
  },
  {
   "cell_type": "code",
   "execution_count": 39,
   "metadata": {},
   "outputs": [
    {
     "name": "stdout",
     "output_type": "stream",
     "text": [
      "1\n"
     ]
    }
   ],
   "source": [
    "# %= operator\n",
    "\n",
    "# Number modulus/reminder\n",
    "num1 = 3\n",
    "num2 = 2\n",
    "num1 %= num2 # in numbers, it will modulus/reminder the number and store to the assigned variable\n",
    "print(num1)\n",
    "\n",
    "# string modulus/reminder is not possible"
   ]
  },
  {
   "cell_type": "markdown",
   "metadata": {},
   "source": [
    "### Walrus operator (:=)\n",
    "The Walrus Operator allows assignment of variables within an expression while returning the value of the variable"
   ]
  },
  {
   "cell_type": "code",
   "execution_count": 8,
   "metadata": {},
   "outputs": [
    {
     "name": "stdout",
     "output_type": "stream",
     "text": [
      "25\n",
      "25\n",
      "100\n",
      "True 5\n"
     ]
    }
   ],
   "source": [
    "# Example 1 section\n",
    "# Without walrus operator\n",
    "number = 5\n",
    "if number > 0:\n",
    "    squared = number ** 2\n",
    "    print(squared)\n",
    "\n",
    "# With walrus operator\n",
    "# 1.\n",
    "number = 5\n",
    "if (squared := number ** 2) > 0:\n",
    "    print(squared)\n",
    "\n",
    "# 2.\n",
    "if (squared := (number := 10) ** 2) > 0:\n",
    "    print(squared)\n",
    "\n",
    "\n",
    "# 3.\n",
    "if (test := 5) == 5:\n",
    "    print(True, test)\n"
   ]
  },
  {
   "cell_type": "code",
   "execution_count": 34,
   "metadata": {},
   "outputs": [
    {
     "name": "stdout",
     "output_type": "stream",
     "text": [
      "[1, 4, 9, 16, 25]\n",
      "[25, 16, 9, 4, 1]\n"
     ]
    }
   ],
   "source": [
    "# Example 2\n",
    "# Without walrus operator\n",
    "values = [1, 2, 3, 4, 5]\n",
    "squares = []\n",
    "for value in values:\n",
    "    square = value ** 2\n",
    "    squares.append(square)\n",
    "\n",
    "print(squares)\n",
    "\n",
    "# With walrus operator\n",
    "values = [1, 2, 3, 4, 5]\n",
    "squares = []\n",
    "\n",
    "while values:  # Check if the list is not empty\n",
    "    value = values.pop()\n",
    "    if value > 0:\n",
    "        squares.append(value ** 2)\n",
    "\n",
    "print(squares)"
   ]
  }
 ],
 "metadata": {
  "kernelspec": {
   "display_name": "Python 3",
   "language": "python",
   "name": "python3"
  },
  "language_info": {
   "codemirror_mode": {
    "name": "ipython",
    "version": 3
   },
   "file_extension": ".py",
   "mimetype": "text/x-python",
   "name": "python",
   "nbconvert_exporter": "python",
   "pygments_lexer": "ipython3",
   "version": "3.10.8"
  }
 },
 "nbformat": 4,
 "nbformat_minor": 2
}
