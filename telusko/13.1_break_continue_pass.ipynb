{
 "cells": [
  {
   "cell_type": "markdown",
   "metadata": {},
   "source": [
    "### Break, continue, pass"
   ]
  },
  {
   "cell_type": "markdown",
   "metadata": {},
   "source": [
    "Break"
   ]
  },
  {
   "cell_type": "code",
   "execution_count": 4,
   "metadata": {},
   "outputs": [
    {
     "name": "stdout",
     "output_type": "stream",
     "text": [
      "Candy!\n",
      "Candy!\n",
      "Candy!\n",
      "Candy!\n",
      "Candy!\n",
      "Out of stock\n"
     ]
    }
   ],
   "source": [
    "# break using while loop\n",
    "stock = 5\n",
    "\n",
    "_input = int(input('How many candies you want ? '))\n",
    "\n",
    "i = 1\n",
    "while i <= _input:\n",
    "\n",
    "    if i > stock:\n",
    "        print(\"Out of stock\") # when the input over the stock, it will break the loop\n",
    "        break\n",
    "    \n",
    "    print('Candy!')\n",
    "    i+=1"
   ]
  },
  {
   "cell_type": "code",
   "execution_count": 5,
   "metadata": {},
   "outputs": [
    {
     "name": "stdout",
     "output_type": "stream",
     "text": [
      "Candy!\n",
      "Candy!\n",
      "Candy!\n",
      "Candy!\n",
      "Candy!\n",
      "Out of stock\n"
     ]
    }
   ],
   "source": [
    "# break using for loop\n",
    "\n",
    "stock = 5\n",
    "\n",
    "_input = int(input('How many candies you want ? '))\n",
    " \n",
    "for i in range(1, _input+1):\n",
    "    if i > stock:\n",
    "        print(\"Out of stock\") # when the input over the stock, it will break the loop\n",
    "        break\n",
    "    print('Candy!')"
   ]
  },
  {
   "cell_type": "markdown",
   "metadata": {},
   "source": [
    "Continue"
   ]
  },
  {
   "cell_type": "code",
   "execution_count": 16,
   "metadata": {},
   "outputs": [
    {
     "name": "stdout",
     "output_type": "stream",
     "text": [
      "1\n",
      "2\n",
      "3\n",
      "4\n",
      "continue\n",
      "6\n",
      "7\n",
      "8\n",
      "9\n",
      "10\n"
     ]
    }
   ],
   "source": [
    "# Continue using for loop\n",
    "\n",
    "for x in range(1, 11):\n",
    "    if x == 5:\n",
    "        print('continue')\n",
    "        continue\n",
    "    \n",
    "    print(x) # continue will skip the exection line "
   ]
  },
  {
   "cell_type": "code",
   "execution_count": 15,
   "metadata": {},
   "outputs": [
    {
     "name": "stdout",
     "output_type": "stream",
     "text": [
      "1\n",
      "2\n",
      "3\n",
      "4\n",
      "continue\n",
      "6\n",
      "7\n",
      "8\n",
      "9\n",
      "10\n"
     ]
    }
   ],
   "source": [
    "# Continue using while loop\n",
    "\n",
    "i = 1\n",
    "\n",
    "while i <= 10:\n",
    "    if i == 5:\n",
    "        print('continue')\n",
    "        i+=1 # this increment is important, because the if condition case, the continue is skip the exception line,\n",
    "             # and not increment the i value, so i still 5, i will make an infinite loop\n",
    "        continue\n",
    "\n",
    "    print(i) # continue will skip the exection line\n",
    "    i+=1"
   ]
  },
  {
   "cell_type": "markdown",
   "metadata": {},
   "source": [
    "pass"
   ]
  },
  {
   "cell_type": "code",
   "execution_count": 20,
   "metadata": {},
   "outputs": [],
   "source": [
    "# pass\n",
    "\n",
    "for x in [1, 2, 3, 4, 5]:\n",
    "    pass\n",
    "\n",
    "i = 1\n",
    "while i <= 10:\n",
    "    pass\n",
    "    i+=1\n",
    "    "
   ]
  }
 ],
 "metadata": {
  "kernelspec": {
   "display_name": "Python 3",
   "language": "python",
   "name": "python3"
  },
  "language_info": {
   "codemirror_mode": {
    "name": "ipython",
    "version": 3
   },
   "file_extension": ".py",
   "mimetype": "text/x-python",
   "name": "python",
   "nbconvert_exporter": "python",
   "pygments_lexer": "ipython3",
   "version": "3.12.1"
  }
 },
 "nbformat": 4,
 "nbformat_minor": 2
}
