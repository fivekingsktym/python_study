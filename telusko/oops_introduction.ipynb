{
 "cells": [
  {
   "cell_type": "markdown",
   "metadata": {},
   "source": [
    "#### class, objects, functions(methods), encapsultion, abstraction, polymorphism\n"
   ]
  },
  {
   "cell_type": "code",
   "execution_count": 2,
   "metadata": {},
   "outputs": [
    {
     "name": "stdout",
     "output_type": "stream",
     "text": [
      "<class '__main__.Computer'> \n",
      "\n",
      "i3 machine, 4gb ram, 1tb harddisk\n",
      "i3 machine, 4gb ram, 1tb harddisk\n",
      "i3 machine, 4gb ram, 1tb harddisk\n",
      "i3 machine, 4gb ram, 1tb harddisk\n"
     ]
    }
   ],
   "source": [
    "# class, objects, functions(methods), encapsultion, abstraction, polymorphism\n",
    "\n",
    "\n",
    "# Class syntax\n",
    "\n",
    "# class Computer:\n",
    "    # Attributes(variables)\n",
    "    # Behaviour(function(methods))\n",
    "\n",
    "\n",
    "\n",
    "\n",
    "\n",
    "class Computer:\n",
    "\n",
    "    def config(self):\n",
    "        print(\"i3 machine, 4gb ram, 1tb harddisk\")\n",
    "\n",
    "comp1 = Computer()\n",
    "comp2 = Computer()\n",
    "\n",
    "print(type(comp1), '\\n')\n",
    "\n",
    "Computer.config(comp1)\n",
    "Computer.config(comp2)\n",
    "# or - both will return the same result\n",
    "comp1.config() # this is common in the industry\n",
    "comp2.config()"
   ]
  },
  {
   "cell_type": "markdown",
   "metadata": {},
   "source": [
    "### __init__ in python"
   ]
  },
  {
   "cell_type": "code",
   "execution_count": 7,
   "metadata": {},
   "outputs": [
    {
     "name": "stdout",
     "output_type": "stream",
     "text": [
      "i5 machine, 4gb ram, 1tb harddisk\n",
      "i7 machine, 8gb ram, 1tb harddisk\n"
     ]
    }
   ],
   "source": [
    "# __init__ method\n",
    "\n",
    "class Computer:\n",
    "\n",
    "    def __init__(self, cpu, ram):\n",
    "        self.cpu = cpu\n",
    "        self.ram = ram\n",
    "        \n",
    "    \n",
    "    def config(self):\n",
    "        print(f\"{self.cpu} machine, {self.ram}gb ram, 1tb harddisk\")\n",
    "\n",
    "\n",
    "comp1 = Computer('i5', 4)\n",
    "comp2 = Computer('i7', 8)\n",
    "\n",
    "comp1.config()\n",
    "comp2.config()"
   ]
  },
  {
   "cell_type": "markdown",
   "metadata": {},
   "source": [
    "### Constructor and self"
   ]
  },
  {
   "cell_type": "code",
   "execution_count": 3,
   "metadata": {},
   "outputs": [
    {
     "name": "stdout",
     "output_type": "stream",
     "text": [
      "140717835813520\n",
      "140717835544880 \n",
      "\n",
      "Abhi 26\n",
      "Appu 30\n",
      "False\n"
     ]
    }
   ],
   "source": [
    "class Computer:\n",
    "    def __init__(self):\n",
    "        self.name = 'Abhi'\n",
    "        self.age = 26\n",
    "\n",
    "    def update(self): # when the function is triggered, it will update the age of called object\n",
    "        self.age = 30\n",
    "\n",
    "    \n",
    "    def compare(self, c2):\n",
    "        if self.age == c2.age:\n",
    "            return True\n",
    "        else:\n",
    "            return False\n",
    "\n",
    "\n",
    "c1 = Computer() # this is a constructor\n",
    "\n",
    "c2 = Computer()\n",
    "c2.name = 'Appu'\n",
    "c2.update()\n",
    "\n",
    "print(id(c1))\n",
    "print(id(c2), \"\\n\")\n",
    "\n",
    "print(c1.name, c1.age)\n",
    "print(c2.name, c2.age)\n",
    "\n",
    "print(c1.compare(c2))\n",
    "\n"
   ]
  },
  {
   "cell_type": "markdown",
   "metadata": {},
   "source": [
    "### instance(__init__) Variables and class Variables"
   ]
  },
  {
   "cell_type": "code",
   "execution_count": 10,
   "metadata": {},
   "outputs": [
    {
     "name": "stdout",
     "output_type": "stream",
     "text": [
      "Car object1 -> Audi 12\n",
      "Car object2 -> BMW 10\n",
      "class variable tires =  4\n"
     ]
    }
   ],
   "source": [
    "class Car:\n",
    "\n",
    "    # these are class variables\n",
    "    tires = 4\n",
    "\n",
    "    def __init__(self):\n",
    "        # these are instance variable\n",
    "        self.mil = 10\n",
    "        self.com = \"Audi\"\n",
    "\n",
    "c1 = Car()\n",
    "c2 = Car()\n",
    "\n",
    "# changing instance variable\n",
    "c1.mil = 12\n",
    "c2.com = 'BMW'\n",
    "\n",
    "print(\"Car object1 ->\", c1.com, c1.mil)\n",
    "print(\"Car object2 ->\", c2.com, c2.mil)\n",
    "\n",
    "# changing class variable\n",
    "Car().tires = 6\n",
    "print(\"class variable tires = \",Car().tires)"
   ]
  },
  {
   "cell_type": "markdown",
   "metadata": {},
   "source": [
    "### class - types of  methods (instance, class, static)"
   ]
  },
  {
   "cell_type": "code",
   "execution_count": 41,
   "metadata": {},
   "outputs": [
    {
     "name": "stdout",
     "output_type": "stream",
     "text": [
      "average of s1 =>  36.666666666666664\n",
      "average of s2 =>  35.333333333333336\n",
      "average of s3 =>  10.0\n",
      "get_m1 method =>  23\n",
      "set_m1 method changed the value of s1.m1 =>  40\n"
     ]
    }
   ],
   "source": [
    "# instance methods\n",
    "\n",
    "class Student:\n",
    "\n",
    "    school = \"Alien School\" # class varialbe\n",
    "\n",
    "    def __init__(self, m1, m2, m3):\n",
    "        self.m1 = m1 # instance variable\n",
    "        self.m2 = m2\n",
    "        self.m3 = m3\n",
    "\n",
    "\n",
    "    # these are called instance methods\n",
    "    def avg(self):\n",
    "        return (self.m1 + self.m2 + self.m3) / 3\n",
    "\n",
    "\n",
    "    # Accessor method\n",
    "    def get_m1(self):\n",
    "        return self.m1\n",
    "    # mutator method\n",
    "    def set_m1(self, value):\n",
    "        self.m1 = value\n",
    "\n",
    "\n",
    "\n",
    "s1 = Student(23, 42, 45)\n",
    "s2 = Student(43, 41, 22)\n",
    "s3 = Student(10, 10, 10).avg()\n",
    "\n",
    "print('average of s1 => ', s1.avg())\n",
    "print('average of s2 => ', s2.avg())\n",
    "print('average of s3 => ', s3)\n",
    "\n",
    "print(\"get_m1 method => \", s1.get_m1())\n",
    "\n",
    "# set_mq method \n",
    "s1.set_m1(40)\n",
    "print(\"set_m1 method changed the value of s1.m1 => \", s1.get_m1())\n"
   ]
  },
  {
   "cell_type": "code",
   "execution_count": 48,
   "metadata": {},
   "outputs": [
    {
     "name": "stdout",
     "output_type": "stream",
     "text": [
      "Alien School\n"
     ]
    }
   ],
   "source": [
    "# Class methods\n",
    "\n",
    "class Student:\n",
    "\n",
    "    school = \"Alien School\"\n",
    "    \n",
    "    def __init__(self, m1, m2, m3):\n",
    "        self.m1 = m1\n",
    "        self.m2 = m2\n",
    "        self.m3 = m3\n",
    "\n",
    "\n",
    "    # these are called class methods\n",
    "    @classmethod\n",
    "    def info(cls):\n",
    "        return cls.school\n",
    "\n",
    "\n",
    "print(Student.info())\n",
    "\n"
   ]
  },
  {
   "cell_type": "code",
   "execution_count": 96,
   "metadata": {},
   "outputs": [
    {
     "name": "stdout",
     "output_type": "stream",
     "text": [
      "this is static method form Student class\n"
     ]
    }
   ],
   "source": [
    "# static method\n",
    "\n",
    "class Student:\n",
    "\n",
    "    # these are called static method\n",
    "    @staticmethod\n",
    "    def info():\n",
    "        print('this is static method form Student class')\n",
    "\n",
    "Student.info()\n",
    "\n"
   ]
  }
 ],
 "metadata": {
  "kernelspec": {
   "display_name": "Python 3",
   "language": "python",
   "name": "python3"
  },
  "language_info": {
   "codemirror_mode": {
    "name": "ipython",
    "version": 3
   },
   "file_extension": ".py",
   "mimetype": "text/x-python",
   "name": "python",
   "nbconvert_exporter": "python",
   "pygments_lexer": "ipython3",
   "version": "3.12.1"
  }
 },
 "nbformat": 4,
 "nbformat_minor": 2
}
