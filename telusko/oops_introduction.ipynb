{
 "cells": [
  {
   "cell_type": "code",
   "execution_count": 12,
   "metadata": {},
   "outputs": [
    {
     "name": "stdout",
     "output_type": "stream",
     "text": [
      "<class '__main__.Computer'> \n",
      "\n",
      "i3 maching, 4gb ram, 1tb harddisk\n",
      "i3 maching, 4gb ram, 1tb harddisk\n",
      "i3 maching, 4gb ram, 1tb harddisk\n",
      "i3 maching, 4gb ram, 1tb harddisk\n"
     ]
    }
   ],
   "source": [
    "# class, objects, functions(methods), encapsultion, abstraction, polymorphism\n",
    "\n",
    "\n",
    "# Class syntax\n",
    "\n",
    "# class Computer:\n",
    "    # Attributes(variables)\n",
    "    # Behaviour(function(methods))\n",
    "\n",
    "\n",
    "\n",
    "\n",
    "\n",
    "class Computer:\n",
    "\n",
    "    def config(self):\n",
    "        print(\"i3 maching, 4gb ram, 1tb harddisk\")\n",
    "\n",
    "comp1 = Computer()\n",
    "comp2 = Computer()\n",
    "\n",
    "print(type(comp1), '\\n')\n",
    "\n",
    "Computer.config(comp1)\n",
    "Computer.config(comp2)\n",
    "# or - both will return the same result\n",
    "comp1.config() # this is common in the industry\n",
    "comp2.config()"
   ]
  }
 ],
 "metadata": {
  "kernelspec": {
   "display_name": "Python 3",
   "language": "python",
   "name": "python3"
  },
  "language_info": {
   "codemirror_mode": {
    "name": "ipython",
    "version": 3
   },
   "file_extension": ".py",
   "mimetype": "text/x-python",
   "name": "python",
   "nbconvert_exporter": "python",
   "pygments_lexer": "ipython3",
   "version": "3.12.1"
  }
 },
 "nbformat": 4,
 "nbformat_minor": 2
}
