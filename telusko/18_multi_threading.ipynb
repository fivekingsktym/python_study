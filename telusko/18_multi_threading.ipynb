{
 "cells": [
  {
   "cell_type": "markdown",
   "metadata": {},
   "source": [
    "#### Multi Threading in python"
   ]
  },
  {
   "cell_type": "code",
   "execution_count": 13,
   "metadata": {},
   "outputs": [
    {
     "name": "stdout",
     "output_type": "stream",
     "text": [
      "Hello\n",
      "Hi\n"
     ]
    },
    {
     "name": "stdout",
     "output_type": "stream",
     "text": [
      "Hello\n",
      "Hi\n",
      "Hello\n",
      "Hi\n",
      "Hello\n",
      "Hi\n",
      "Hello\n",
      "Hi\n",
      "bye\n"
     ]
    }
   ],
   "source": [
    "# Multi Threading - the program have 3 threads\n",
    "\n",
    "from threading import Thread #thread1 is a built-in class\n",
    "from time import sleep\n",
    "\n",
    "# sub-class of thread(chlid class)\n",
    "class Hello(Thread): #thread2 is a user-defined sub-class\n",
    "    def run(self): # the function is already in the \"Thread builtin-class\", so it will overriding the parent class Thread, so we can run using start() method\n",
    "        for x in range(5):\n",
    "            print(\"Hello\")\n",
    "            sleep(1)\n",
    "\n",
    "\n",
    "# sub-class of thread(chlid class)\n",
    "class Hi(Thread): #thread3 is a user-defined sub-class\n",
    "    def run(self): # the function is already in the \"Thread builtin-class\", so it will overriding the parent class Thread, so we can run using start() method\n",
    "        for x in range(5):\n",
    "            print('Hi')\n",
    "            sleep(1)\n",
    "\n",
    "\n",
    "obj1 = Hello() # objects\n",
    "obj2 = Hi() # objects\n",
    "\n",
    "# the main execution is done by main thread\n",
    "obj1.start() # the thread will execute the simultaneously, the start() function is a method of Thread builtin-class\n",
    "sleep(0.2) # to avoding collision, (eg: two threads are comming same time at the cpu)\n",
    "obj2.start() # the thread will execute the simultaneously, the start() function is a method of Thread builtin-class\n",
    "\n",
    "\n",
    "obj1.join() # when join() wiil found, Main thread is wait for the completion of object1 and object2 working, and then execute the below statement \n",
    "obj2.join() # when join() wiil found, Main thread is wait for the completion of object1 and object2 working, and then execute the below statement \n",
    "print('bye') # this print statement will print betweeen the exection, (eg: Hello, Hi, Bye, Hello, Hi, etc.... )\n"
   ]
  }
 ],
 "metadata": {
  "kernelspec": {
   "display_name": "Python 3",
   "language": "python",
   "name": "python3"
  },
  "language_info": {
   "codemirror_mode": {
    "name": "ipython",
    "version": 3
   },
   "file_extension": ".py",
   "mimetype": "text/x-python",
   "name": "python",
   "nbconvert_exporter": "python",
   "pygments_lexer": "ipython3",
   "version": "3.12.1"
  }
 },
 "nbformat": 4,
 "nbformat_minor": 2
}
