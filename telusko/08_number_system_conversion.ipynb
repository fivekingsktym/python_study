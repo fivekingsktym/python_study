{
 "cells": [
  {
   "cell_type": "markdown",
   "metadata": {},
   "source": [
    "### Number System conversion in python\n",
    "\n",
    "Binary(base 2->[0-1]) and decimal(base 10->[0-9]), octal(base 8->[0-7]) and hexadecimal(base 16->[0-9, a-f])"
   ]
  },
  {
   "cell_type": "code",
   "execution_count": 23,
   "metadata": {},
   "outputs": [
    {
     "name": "stdout",
     "output_type": "stream",
     "text": [
      "binary of 25 is : 0b11001\n",
      "0b0101 binary is :  5\n"
     ]
    }
   ],
   "source": [
    "# decimal to binary\n",
    "print(\"binary of 25 is :\", bin(25))\n",
    "print(\"0b0101 binary is : \", 0b0101)\n"
   ]
  },
  {
   "cell_type": "code",
   "execution_count": null,
   "metadata": {},
   "outputs": [
    {
     "name": "stdout",
     "output_type": "stream",
     "text": [
      "0b1\n",
      "0b10\n",
      "0b11\n",
      "0b100\n",
      "0b101\n",
      "0b110\n",
      "0b111\n",
      "0b1000\n",
      "0b1001\n",
      "0b1010\n",
      "0b1011\n",
      "0b1100\n",
      "0b1101\n",
      "0b1110\n",
      "0b1111\n"
     ]
    }
   ],
   "source": [
    "# decimal to binary\n",
    "\n",
    "for x in range(1, 16):\n",
    "    print(bin(x))"
   ]
  },
  {
   "cell_type": "code",
   "execution_count": 29,
   "metadata": {},
   "outputs": [
    {
     "name": "stdout",
     "output_type": "stream",
     "text": [
      "binary of octal 25 is : 0o31\n",
      "0o31 binary is :  25\n"
     ]
    }
   ],
   "source": [
    "# octal to binary\n",
    "print(\"binary of octal 25 is :\", oct(25))\n",
    "print(\"0o31 binary is : \", 0o31)"
   ]
  },
  {
   "cell_type": "code",
   "execution_count": 31,
   "metadata": {},
   "outputs": [
    {
     "name": "stdout",
     "output_type": "stream",
     "text": [
      "binary of hexa 25 is : 0x19\n",
      "0x19 binary is :  25\n"
     ]
    }
   ],
   "source": [
    "# hexadecimal to binary\n",
    "print(\"binary of hexa 25 is :\", hex(25))\n",
    "print(\"0x19 binary is : \", 0x19)"
   ]
  }
 ],
 "metadata": {
  "kernelspec": {
   "display_name": "Python 3",
   "language": "python",
   "name": "python3"
  },
  "language_info": {
   "codemirror_mode": {
    "name": "ipython",
    "version": 3
   },
   "file_extension": ".py",
   "mimetype": "text/x-python",
   "name": "python",
   "nbconvert_exporter": "python",
   "pygments_lexer": "ipython3",
   "version": "3.10.8"
  }
 },
 "nbformat": 4,
 "nbformat_minor": 2
}
