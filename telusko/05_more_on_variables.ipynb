{
 "cells": [
  {
   "cell_type": "markdown",
   "metadata": {},
   "source": [
    "More on variable, memory conception"
   ]
  },
  {
   "cell_type": "code",
   "execution_count": 26,
   "metadata": {},
   "outputs": [
    {
     "name": "stdout",
     "output_type": "stream",
     "text": [
      "Memory address is :  140173024038960\n",
      "Memory address is :  140172978520624\n"
     ]
    }
   ],
   "source": [
    "num = 123\n",
    "name = 'Govind'\n",
    "\n",
    "print('Memory address is : ', id(num))\n",
    "print('Memory address is : ', id(name))"
   ]
  },
  {
   "cell_type": "code",
   "execution_count": 33,
   "metadata": {},
   "outputs": [
    {
     "name": "stdout",
     "output_type": "stream",
     "text": [
      "Memory address of a:  140173024035344\n",
      "Memory address of b:  140173024035344\n",
      "Memory address of c:  140173024035344\n",
      "\n",
      "value of 'a' is changed to 20\n",
      "Memory address of a:  140173024035664 -> data and address changed\n",
      "Memory address of b:  140173024035344 -> referring old data and address\n",
      "Memory address of c:  140173024035344 -> referring old data and address\n"
     ]
    }
   ],
   "source": [
    "# When you copy a variable data to another variable, \n",
    "# the python will share the same data and memory address, so there is no extra memory allocation.\n",
    "\n",
    "a = 10\n",
    "b = a\n",
    "c = a\n",
    "\n",
    "print('Memory address of a: ', id(a))\n",
    "print('Memory address of b: ', id(b)) # a and b are sharing the same data and same address of a\n",
    "print('Memory address of c: ', id(c))\n",
    "\n",
    "\n",
    "# changing the value of a will affect the data and memory address\n",
    "print(\"\\nvalue of 'a' is changed to 20\")\n",
    "a = 20\n",
    "print('Memory address of a: ', id(a), \"-> data and address changed\")\n",
    "print('Memory address of b: ', id(b), \"-> referring old data and address\") # when a is changed, but b and c are referring the same old value 10\n",
    "print('Memory address of c: ', id(c), \"-> referring old data and address\")"
   ]
  },
  {
   "cell_type": "markdown",
   "metadata": {},
   "source": [
    "Constants - Python does not have a built-in constant type."
   ]
  },
  {
   "cell_type": "code",
   "execution_count": 40,
   "metadata": {},
   "outputs": [
    {
     "name": "stdout",
     "output_type": "stream",
     "text": [
      "3.14\n",
      "10\n"
     ]
    }
   ],
   "source": [
    "PI = 3.14\n",
    "print(PI)\n",
    "\n",
    "# any time the variables are changeable, thats a problem of python constants\n",
    "PI = 10\n",
    "print(PI)\n"
   ]
  },
  {
   "cell_type": "code",
   "execution_count": 63,
   "metadata": {},
   "outputs": [
    {
     "name": "stdout",
     "output_type": "stream",
     "text": [
      "3.14\n"
     ]
    }
   ],
   "source": [
    "# While Python doesn't have a built-in constant type, you can use uppercase names and document the variable as a constant to signal that it should not be changed. \n",
    "# Additionally, you can use a class or a module to encapsulate constants\n",
    "\n",
    "# it will solve the problem\n",
    "class constants():\n",
    "    PI = 3.14\n",
    "\n",
    "constants().PI = 5\n",
    "\n",
    "print(constants().PI)\n",
    "\n"
   ]
  }
 ],
 "metadata": {
  "kernelspec": {
   "display_name": "Python 3",
   "language": "python",
   "name": "python3"
  },
  "language_info": {
   "codemirror_mode": {
    "name": "ipython",
    "version": 3
   },
   "file_extension": ".py",
   "mimetype": "text/x-python",
   "name": "python",
   "nbconvert_exporter": "python",
   "pygments_lexer": "ipython3",
   "version": "3.10.8"
  }
 },
 "nbformat": 4,
 "nbformat_minor": 2
}
