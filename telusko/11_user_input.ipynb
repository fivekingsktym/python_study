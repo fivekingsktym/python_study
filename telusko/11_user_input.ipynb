{
 "cells": [
  {
   "cell_type": "markdown",
   "metadata": {},
   "source": [
    "User input in python"
   ]
  },
  {
   "cell_type": "code",
   "execution_count": 3,
   "metadata": {},
   "outputs": [
    {
     "name": "stdout",
     "output_type": "stream",
     "text": [
      "Sum is :  35\n"
     ]
    }
   ],
   "source": [
    "# input() function\n",
    "num1 = int(input('Enter num 1')) # with out using type conversion to int, the variable consider as string\n",
    "num2 = int(input('Enter num 2'))\n",
    "\n",
    "sum = num1 + num2\n",
    "print(\"Sum is : \", sum)"
   ]
  },
  {
   "cell_type": "code",
   "execution_count": 5,
   "metadata": {},
   "outputs": [
    {
     "name": "stdout",
     "output_type": "stream",
     "text": [
      "First value of string is :  h\n"
     ]
    }
   ],
   "source": [
    "# Example of string\n",
    "\n",
    "_str = input('Enter a string')[0] # String is \"hello\"\n",
    "print(\"First value of string is : \", _str)"
   ]
  },
  {
   "cell_type": "code",
   "execution_count": 6,
   "metadata": {},
   "outputs": [
    {
     "name": "stdout",
     "output_type": "stream",
     "text": [
      "Result is : 4\n"
     ]
    }
   ],
   "source": [
    "# eval() function\n",
    "result = eval(input(\"Enter an expression : \")) # the expression is 2+3-1\n",
    "print('Result is :', result)\n"
   ]
  }
 ],
 "metadata": {
  "kernelspec": {
   "display_name": "Python 3",
   "language": "python",
   "name": "python3"
  },
  "language_info": {
   "codemirror_mode": {
    "name": "ipython",
    "version": 3
   },
   "file_extension": ".py",
   "mimetype": "text/x-python",
   "name": "python",
   "nbconvert_exporter": "python",
   "pygments_lexer": "ipython3",
   "version": "3.10.8"
  }
 },
 "nbformat": 4,
 "nbformat_minor": 2
}
