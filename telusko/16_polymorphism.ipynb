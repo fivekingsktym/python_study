{
 "cells": [
  {
   "cell_type": "markdown",
   "metadata": {},
   "source": [
    "### polymorphism in python\n",
    "\n",
    "poly -> means \"many\" <br>\n",
    "morphism -> means \"form\" <br>\n",
    "\n",
    "#### 4 ways to implement polymorphism\n",
    "- Duck typing\n",
    "- Operator overloading\n",
    "- Method overloading\n",
    "- Method overriding"
   ]
  },
  {
   "cell_type": "code",
   "execution_count": 15,
   "metadata": {},
   "outputs": [
    {
     "name": "stdout",
     "output_type": "stream",
     "text": [
      "Quack!\n",
      "Woof!\n"
     ]
    }
   ],
   "source": [
    "# Example of Duck-typing\n",
    "\n",
    "class Duck:\n",
    "    def quack(self):\n",
    "        print(\"Quack!\")\n",
    "\n",
    "    def fly(self):\n",
    "        print(\"Flying\")\n",
    "\n",
    "class Dog:\n",
    "    def bark(self):\n",
    "        print(\"Woof!\")\n",
    "\n",
    "    def run(self):\n",
    "        print(\"Running\")\n",
    "\n",
    "def make_sound(animal):\n",
    "                            # object   funcion-name\n",
    "    animal.quack() if hasattr(animal, 'quack') else animal.bark()\n",
    "\n",
    "# Using duck typing\n",
    "duck = Duck()\n",
    "dog = Dog()\n",
    "\n",
    "make_sound(duck)  # Outputs: Quack!\n",
    "make_sound(dog)   # Outputs: Woof!\n"
   ]
  }
 ],
 "metadata": {
  "kernelspec": {
   "display_name": "Python 3",
   "language": "python",
   "name": "python3"
  },
  "language_info": {
   "codemirror_mode": {
    "name": "ipython",
    "version": 3
   },
   "file_extension": ".py",
   "mimetype": "text/x-python",
   "name": "python",
   "nbconvert_exporter": "python",
   "pygments_lexer": "ipython3",
   "version": "3.12.1"
  }
 },
 "nbformat": 4,
 "nbformat_minor": 2
}
