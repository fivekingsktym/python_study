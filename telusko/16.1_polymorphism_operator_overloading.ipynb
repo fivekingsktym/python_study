{
 "cells": [
  {
   "cell_type": "markdown",
   "metadata": {},
   "source": [
    "### Polymorphism -> Operator overloading"
   ]
  },
  {
   "cell_type": "code",
   "execution_count": 23,
   "metadata": {},
   "outputs": [
    {
     "name": "stdout",
     "output_type": "stream",
     "text": [
      "16\n",
      "16\n",
      "\n",
      "4\n",
      "60\n"
     ]
    }
   ],
   "source": [
    "a, b = 10, 6\n",
    "\n",
    "print(a + b) # both are doing the same thing\n",
    "\n",
    "# even if the a+b called, behind scene the below method is called\n",
    "print(int.__add__(a, b)) # both are doing the same thing\n",
    "\n",
    "# other methods - all are called as magic methods\n",
    "print()\n",
    "print(int.__sub__(a, b))\n",
    "print(int.__mul__(a, b))"
   ]
  },
  {
   "cell_type": "code",
   "execution_count": 1,
   "metadata": {},
   "outputs": [
    {
     "name": "stdout",
     "output_type": "stream",
     "text": [
      "30\n",
      "80\n",
      "\n",
      "s2 wine\n",
      "\n",
      "10\n",
      "20 30\n",
      "10 50\n"
     ]
    }
   ],
   "source": [
    "class Student:\n",
    "    def __init__(self, m1, m2):\n",
    "        self.m1 =  m1\n",
    "        self.m2 =  m2\n",
    "\n",
    "    # addition of two objects\n",
    "    def __add__(self, other):\n",
    "        m1 = self.m1 + other.m1\n",
    "        m2 = self.m2 + other.m2\n",
    "\n",
    "        s3 = Student(m1, m2)\n",
    "\n",
    "        return s3\n",
    "\n",
    "    # greater than checking of two objects\n",
    "    def __gt__(self, other):\n",
    "        r1 = self.m1 + self.m2\n",
    "        r2 = other.m1 + other.m2\n",
    "\n",
    "        if r1 > r2:\n",
    "            return True\n",
    "        else:\n",
    "            return False\n",
    "\n",
    "    # string representation of an object\n",
    "    def __str__(self):\n",
    "        # return self.m1, self.m2 # it will return a tuple() # eg: (20, 30), note this will only work to print the object.__str__() function eg: s1.__str__()\n",
    "        return \"{} {}\".format(self.m1, self. m2)\n",
    "\n",
    "\n",
    "s1 = Student(20, 30)\n",
    "s2 = Student(10, 50)\n",
    "\n",
    "# in addition of two object will call this \"Student.__add__(s1, s2)\"\" default, it will make error,  \n",
    "s3 =  s1 + s2 # so we rewrite the __add__ method in the class __add_ function\n",
    "\n",
    "print(s3.m1)\n",
    "print(s3.m2)\n",
    "\n",
    "print()\n",
    "# greater than checking of two object will also make error\n",
    "if s1 > s2: # Student.__gt__(s1, s2)\n",
    "    print('s1 wine')\n",
    "else:\n",
    "    print('s2 wine')\n",
    "\n",
    "\n",
    "print()\n",
    "# in every variable, the default print(variable) will trigger the __str__() method, it wiil return the value, not the address of the variable\n",
    "# eg: \n",
    "print((a:=10).__str__()) # it is same as print(a), the python called the __str__ method\n",
    "\n",
    "# in objects, the default print(object) will trigger the __str__() method, it will return the address, not the value of object\n",
    "# print(s1.__str__()) # using normal tuple in the __str__() in the class, plese note, the object.__str__() function will work eg: s1.__str__()\n",
    "print(s1)\n",
    "print(s2)\n"
   ]
  }
 ],
 "metadata": {
  "kernelspec": {
   "display_name": "Python 3",
   "language": "python",
   "name": "python3"
  },
  "language_info": {
   "codemirror_mode": {
    "name": "ipython",
    "version": 3
   },
   "file_extension": ".py",
   "mimetype": "text/x-python",
   "name": "python",
   "nbconvert_exporter": "python",
   "pygments_lexer": "ipython3",
   "version": "3.12.1"
  }
 },
 "nbformat": 4,
 "nbformat_minor": 2
}
