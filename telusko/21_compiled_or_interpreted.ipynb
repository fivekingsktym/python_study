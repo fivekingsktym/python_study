{
 "cells": [
  {
   "cell_type": "markdown",
   "metadata": {},
   "source": [
    "#### Python is a complied and interpreted language\n",
    "\n",
    "Python is an interpreted language. When you run a Python script, the Python interpreter reads and executes the code line by line. There is no separate compilation step as seen in languages like C++ or Java. Instead, the Python interpreter directly translates the source code into machine code or bytecode, depending on the specific implementation (e.g., CPython, Jython, IronPython).\n",
    "\n",
    "While Python is often referred to as an interpreted language, it's essential to note that some implementations use a combination of interpretation and compilation. For example, CPython (the reference implementation) compiles the source code into bytecode, which is then interpreted by the Python virtual machine (PVM). This combination allows for platform independence (since the bytecode can be executed on any system with the appropriate PVM) and provides a balance between execution speed and code portability."
   ]
  },
  {
   "cell_type": "code",
   "execution_count": 1,
   "metadata": {},
   "outputs": [
    {
     "name": "stdout",
     "output_type": "stream",
     "text": [
      "CPython\n"
     ]
    }
   ],
   "source": [
    "# How to check which compilation tool is using\n",
    "import platform\n",
    "print(platform.python_implementation())"
   ]
  },
  {
   "cell_type": "code",
   "execution_count": 19,
   "metadata": {},
   "outputs": [
    {
     "name": "stdout",
     "output_type": "stream",
     "text": [
      "OS: Linux\n",
      "OS Version: #202312122204 SMP PREEMPT_DYNAMIC Tue Dec 12 22:43:56 UTC 2023\n",
      "Architecture: ('64bit', 'ELF')\n",
      "Python Implementation: CPython\n",
      "Python Version: 3.12.1\n",
      "Machine Type: x86_64\n",
      "Processor Type: x86_64\n",
      "Python Compiler: GCC 11.4.0\n",
      "Node Name: fivekingskt-pythonstudy-2q6zth6l3g9\n",
      "System Release: 6.1.66-060166-generic\n",
      "Platform: Linux-6.1.66-060166-generic-x86_64-with-glibc2.35\n"
     ]
    }
   ],
   "source": [
    "import platform\n",
    "\n",
    "print(\"OS:\", platform.system())\n",
    "print(\"OS Version:\", platform.version())\n",
    "print(\"Architecture:\", platform.architecture())\n",
    "\n",
    "print(\"Python Implementation:\", platform.python_implementation())\n",
    "print(\"Python Version:\", platform.python_version())\n",
    "print(\"Machine Type:\", platform.machine())\n",
    "print(\"Processor Type:\", platform.processor())\n",
    "print(\"Python Compiler:\", platform.python_compiler())\n",
    "\n",
    "print(\"Node Name:\", platform.node())\n",
    "print(\"System Release:\", platform.release())\n",
    "print(\"Platform:\", platform.platform())\n"
   ]
  }
 ],
 "metadata": {
  "kernelspec": {
   "display_name": "Python 3",
   "language": "python",
   "name": "python3"
  },
  "language_info": {
   "codemirror_mode": {
    "name": "ipython",
    "version": 3
   },
   "file_extension": ".py",
   "mimetype": "text/x-python",
   "name": "python",
   "nbconvert_exporter": "python",
   "pygments_lexer": "ipython3",
   "version": "3.12.1"
  }
 },
 "nbformat": 4,
 "nbformat_minor": 2
}
