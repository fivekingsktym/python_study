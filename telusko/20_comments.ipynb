{
 "cells": [
  {
   "cell_type": "markdown",
   "metadata": {},
   "source": [
    "#### Comments in python"
   ]
  },
  {
   "cell_type": "code",
   "execution_count": 1,
   "metadata": {},
   "outputs": [],
   "source": [
    "# single line comments\n",
    "# we can use it anywhere in the python line"
   ]
  },
  {
   "cell_type": "code",
   "execution_count": 7,
   "metadata": {},
   "outputs": [
    {
     "data": {
      "text/plain": [
       "\" Note: While triple-quotes can be used for multi-line comments, it's more common to use \\nthem for docstrings (documentation strings) in functions and modules. \\n\""
      ]
     },
     "execution_count": 7,
     "metadata": {},
     "output_type": "execute_result"
    }
   ],
   "source": [
    "'''\n",
    "This is a multi-line comment.\n",
    "It spans multiple lines.\n",
    "'''\n",
    "\n",
    "\"\"\"\n",
    "Another way to create a multi-line comment.\n",
    "Use triple double-quotes as well.\n",
    "\"\"\"\n",
    "\n",
    "\"\"\" Note: While triple-quotes can be used for multi-line comments, it's more common to use \n",
    "them for docstrings (documentation strings) in functions and modules. \n",
    "\"\"\"\n"
   ]
  }
 ],
 "metadata": {
  "kernelspec": {
   "display_name": "Python 3",
   "language": "python",
   "name": "python3"
  },
  "language_info": {
   "codemirror_mode": {
    "name": "ipython",
    "version": 3
   },
   "file_extension": ".py",
   "mimetype": "text/x-python",
   "name": "python",
   "nbconvert_exporter": "python",
   "pygments_lexer": "ipython3",
   "version": "3.12.1"
  }
 },
 "nbformat": 4,
 "nbformat_minor": 2
}
