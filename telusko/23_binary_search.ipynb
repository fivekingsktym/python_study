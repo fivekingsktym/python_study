{
 "cells": [
  {
   "cell_type": "markdown",
   "metadata": {},
   "source": [
    "#### Binary Search"
   ]
  },
  {
   "cell_type": "code",
   "execution_count": 25,
   "metadata": {},
   "outputs": [
    {
     "name": "stdout",
     "output_type": "stream",
     "text": [
      "[4, 7, 8, 12, 45, 99] | 45\n",
      "l = 0 | u = 5 | (l+u) // 2 | mid is 2 | mid_index_of_8 == 45 | 8 < 45\n",
      "l = 3 | u = 5 | (l+u) // 2 | mid is 4 | mid_index_of_45 == 45 | 45 < 45\n",
      "\n",
      "Value found at index of 4\n"
     ]
    }
   ],
   "source": [
    "_list = [4, 7, 8, 12, 45, 99]\n",
    "n = 45\n",
    "print(_list, \"|\",n)\n",
    "\n",
    "pos = -1\n",
    "def Search(_list, n):\n",
    "    l = 0\n",
    "    u = len(_list) - 1 \n",
    "\n",
    "    while l <= u:\n",
    "        mid = (l + u) // 2\n",
    "        print(f\"l = {l} | u = {u} | (l+u) // 2 | mid is {mid} | mid_index_of_{_list[mid]} == {n} | {_list[mid]} < {n}\")\n",
    "        \n",
    "        if _list[mid] == n:\n",
    "            globals()['pos'] = mid\n",
    "            return True\n",
    "        else:\n",
    "            if _list[mid] < n:\n",
    "                l = mid + 1\n",
    "            else:\n",
    "                u = mid - 1\n",
    "\n",
    "    return False\n",
    "\n",
    "\n",
    "if Search(_list, n):\n",
    "    print(f\"\\nValue found at index of {pos}\")\n",
    "else:\n",
    "    print(\"Value not found\")"
   ]
  },
  {
   "cell_type": "markdown",
   "metadata": {},
   "source": [
    "#### Explaination \n",
    "\n",
    "Let's go through each iteration of the `while` loop:\n",
    "\n",
    "1. **First Iteration:**\n",
    "   - `l = 0`, `u = 6`\n",
    "   - `mid = 3` (calculated as `(0 + 6) // 2`)\n",
    "   - `_list[mid]` is not equal to `n` (45), so we move to the `else` branch.\n",
    "   - Since `_list[mid]` (12) is less than `n`, we update `l = mid + 1` to `l = 4`.\n",
    "\n",
    "2. **Second Iteration:**\n",
    "   - `l = 4`, `u = 6`\n",
    "   - `mid = 5` (calculated as `(4 + 6) // 2`)\n",
    "   - `_list[mid]` is not equal to `n` (45), so we move to the `else` branch.\n",
    "   - Since `_list[mid]` (99) is greater than `n`, we update `u = mid - 1` to `u = 4`.\n",
    "\n",
    "3. **Third Iteration:**\n",
    "   - `l = 4`, `u = 4`\n",
    "   - `mid = 4` (calculated as `(4 + 4) // 2`)\n",
    "   - `_list[mid]` is equal to `n` (45), so we set `pos` to `4` and return `True`.\n",
    "\n",
    "The search has found the target value (45) at index 4, and the program prints: \"Value found at index of 4\"."
   ]
  }
 ],
 "metadata": {
  "kernelspec": {
   "display_name": "Python 3",
   "language": "python",
   "name": "python3"
  },
  "language_info": {
   "codemirror_mode": {
    "name": "ipython",
    "version": 3
   },
   "file_extension": ".py",
   "mimetype": "text/x-python",
   "name": "python",
   "nbconvert_exporter": "python",
   "pygments_lexer": "ipython3",
   "version": "3.12.1"
  }
 },
 "nbformat": 4,
 "nbformat_minor": 2
}
