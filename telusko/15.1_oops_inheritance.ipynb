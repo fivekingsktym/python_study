{
 "cells": [
  {
   "cell_type": "markdown",
   "metadata": {},
   "source": [
    "### Inheritance in python\n",
    "\n",
    "#### index\n",
    "\n",
    "- Single inheritance\n",
    "- Multi-level inheritance\n",
    "- Mutiple inheritance\n",
    "\n",
    "- Constructors in inheritance"
   ]
  },
  {
   "cell_type": "code",
   "execution_count": 7,
   "metadata": {},
   "outputs": [
    {
     "name": "stdout",
     "output_type": "stream",
     "text": [
      "feature 1 working\n",
      "feature 2 working\n",
      "feature 3 working\n",
      "feature 4 working\n"
     ]
    }
   ],
   "source": [
    "# Single Inheritance\n",
    "\n",
    "# parent class\n",
    "class A:\n",
    "    def feature1(self):\n",
    "        print('feature 1 working')\n",
    "\n",
    "    def feature2(self):\n",
    "        print('feature 2 working')\n",
    "\n",
    "# child class\n",
    "class B(A): # accessing the A class\n",
    "    def feature3(self):\n",
    "        print('feature 3 working')\n",
    "\n",
    "    def feature4(self):\n",
    "        print('feature 4 working')\n",
    "\n",
    "\n",
    "# object of B class\n",
    "cA = B()\n",
    "\n",
    "cA.feature1() # the 2 function are come form class A, using single inheritance\n",
    "cA.feature2() # the 2 function are come form class A, using single inheritance\n",
    "\n",
    "cA.feature3() # these are class B functions\n",
    "cA.feature4() # these are class B functions\n"
   ]
  },
  {
   "cell_type": "code",
   "execution_count": 8,
   "metadata": {},
   "outputs": [
    {
     "name": "stdout",
     "output_type": "stream",
     "text": [
      "this is feature 1\n",
      "this is feature 2\n",
      "this is feature 3\n"
     ]
    }
   ],
   "source": [
    "# Multilevel inheritance\n",
    "\n",
    "# Grand parent class\n",
    "class A:\n",
    "    def feature1(self):\n",
    "        print('this is feature 1')\n",
    "\n",
    "# parent class\n",
    "class B(A):\n",
    "    def feature2(self):\n",
    "        print('this is feature 2')\n",
    "\n",
    "# Child\n",
    "class C(B):\n",
    "    def feature3(self):\n",
    "        print('this is feature 3')\n",
    "\n",
    "# object of C class\n",
    "obC = C()\n",
    "\n",
    "obC.feature1()\n",
    "obC.feature2()\n",
    "obC.feature3()"
   ]
  },
  {
   "cell_type": "code",
   "execution_count": 11,
   "metadata": {},
   "outputs": [
    {
     "name": "stdout",
     "output_type": "stream",
     "text": [
      "this is feature 1\n",
      "this is feature 2\n",
      "this is feature 3\n"
     ]
    }
   ],
   "source": [
    "# Multiple inheritance\n",
    "\n",
    "class A:\n",
    "    def feature1(self):\n",
    "        print('this is feature 1')\n",
    "\n",
    "\n",
    "class B:\n",
    "    def feature2(self):\n",
    "        print('this is feature 2')\n",
    "\n",
    "\n",
    "class C(A, B): # Accessing Class A and B to class C\n",
    "    def feature3(self):\n",
    "        print('this is feature 3')\n",
    "\n",
    "# object of C class\n",
    "obC = C()\n",
    "\n",
    "obC.feature1()\n",
    "obC.feature2()\n",
    "obC.feature3()"
   ]
  },
  {
   "cell_type": "markdown",
   "metadata": {},
   "source": [
    "### Constructors in python"
   ]
  },
  {
   "cell_type": "code",
   "execution_count": 15,
   "metadata": {},
   "outputs": [
    {
     "name": "stdout",
     "output_type": "stream",
     "text": [
      "__init__ A\n",
      "__init__ B\n"
     ]
    }
   ],
   "source": [
    "# using single inheritance\n",
    "class A:\n",
    "\n",
    "    def __init__(self):\n",
    "        print(\"__init__ A\")\n",
    "\n",
    "    def feature1(self):\n",
    "        print('this is feature 1')\n",
    "\n",
    "\n",
    "class B(A):\n",
    "    def __init__(self):\n",
    "        super().__init__() # with the help of super(), we can call the __init__ of class A\n",
    "        print(\"__init__ B\")\n",
    "\n",
    "    def feature2(self):\n",
    "        print('this is feature 2')\n",
    "\n",
    "# if you create object of sub class, it will first try to find __init__ of sub class, \n",
    "# if it is not found, then it will call __init__ of super class\n",
    "\n",
    "# object of B\n",
    "obj_B = B()"
   ]
  },
  {
   "cell_type": "code",
   "execution_count": 78,
   "metadata": {},
   "outputs": [
    {
     "name": "stdout",
     "output_type": "stream",
     "text": [
      "__init__ A\n",
      "__init__ C\n",
      "this is feature 1-A\n"
     ]
    }
   ],
   "source": [
    "# using single inheritance\n",
    "class A:\n",
    "\n",
    "    def __init__(self):\n",
    "        print(\"__init__ A\")\n",
    "\n",
    "    def feature1(self):\n",
    "        print('this is feature 1-A')\n",
    "\n",
    "\n",
    "class B:\n",
    "    def __init__(self):\n",
    "        print(\"__init__ B\")\n",
    "\n",
    "    def feature1(self):\n",
    "        print('this is feature 2-B')\n",
    "\n",
    "class C(A, B):\n",
    "    def __init__(self):\n",
    "        super().__init__() # with the help of super(), it will call only __init__ of class A, because the order is from left side\n",
    "        #  in mutiple inheritance, the super() order is using \"Method Resolution Order\" (left side order)\n",
    "        print(\"__init__ C\")\n",
    "\n",
    "    def feature2(self):\n",
    "        print('this is feature 3-C')\n",
    "\n",
    "# if you create object of sub class, it will first try to find __init__ of sub class, \n",
    "# if it is not found, then it will call __init__ of super class\n",
    "\n",
    "# object of B\n",
    "obj_C = C()\n",
    "\n",
    "obj_C.feature1() # in class A and B have the same function called feature1, so the class C calls only class A function, \n",
    "                 #  because the order of \"Method Resolution Order\" (left side order)\n",
    "\n",
    "# B.feature1(obj_C)"
   ]
  }
 ],
 "metadata": {
  "kernelspec": {
   "display_name": "Python 3",
   "language": "python",
   "name": "python3"
  },
  "language_info": {
   "codemirror_mode": {
    "name": "ipython",
    "version": 3
   },
   "file_extension": ".py",
   "mimetype": "text/x-python",
   "name": "python",
   "nbconvert_exporter": "python",
   "pygments_lexer": "ipython3",
   "version": "3.12.1"
  }
 },
 "nbformat": 4,
 "nbformat_minor": 2
}
