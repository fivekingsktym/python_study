{
 "cells": [
  {
   "cell_type": "markdown",
   "metadata": {},
   "source": [
    "Array concepts list[],"
   ]
  },
  {
   "cell_type": "code",
   "execution_count": 68,
   "metadata": {},
   "outputs": [
    {
     "name": "stdout",
     "output_type": "stream",
     "text": [
      "1:->  [23, 'orange', 32, 'apple']\n",
      "2:->  [23, 'orange', 32, 'apple']\n",
      "\n",
      "3:-> first value of the list ->  23\n",
      "4:-> second value of the list -> orange\n",
      "5:-> last value of the list -> apple\n",
      "6:-> value between [0 to -1] ->  [23, 'orange', 32]\n",
      "7:-> value between [-2 to -1] ->  [32, 'apple']\n",
      "8:-> convert the list into reverse order ->  ['apple', 32, 'orange', 23]\n",
      "\n",
      "8: list[list]->  [[1, 2, 3, 4, 5, 6, 7], ['Bmw', 'Maruthi', 'Hundai', 'Kia', 'MG']]\n"
     ]
    }
   ],
   "source": [
    "# Dynamic list\n",
    "data = [23, \"orange\", 32, \"apple\"]\n",
    "\n",
    "print(\"1:-> \", data)\n",
    "# it is also print the entire list\n",
    "print(\"2:-> \", data[:])\n",
    "\n",
    "print(\"\\n3:-> first value of the list -> \", data[0])\n",
    "print(\"4:-> second value of the list ->\", data[1])\n",
    "print(\"5:-> last value of the list ->\", data[-1])\n",
    "print(\"6:-> value between [0 to -1] -> \", data[:-1])\n",
    "print(\"7:-> value between [-2 to -1] -> \", data[-2:])\n",
    "print(\"8:-> convert the list into reverse order -> \", data[::-1])\n",
    "\n",
    "# Dynamic list[list] data\n",
    "my_data = [[1, 2, 3, 4, 5, 6, 7], ['Bmw', 'Maruthi', 'Hundai', 'Kia', 'MG']]\n",
    "print(\"\\n8: list[list]-> \", my_data)"
   ]
  }
 ],
 "metadata": {
  "kernelspec": {
   "display_name": "Python 3",
   "language": "python",
   "name": "python3"
  },
  "language_info": {
   "codemirror_mode": {
    "name": "ipython",
    "version": 3
   },
   "file_extension": ".py",
   "mimetype": "text/x-python",
   "name": "python",
   "nbconvert_exporter": "python",
   "pygments_lexer": "ipython3",
   "version": "3.10.8"
  }
 },
 "nbformat": 4,
 "nbformat_minor": 2
}
