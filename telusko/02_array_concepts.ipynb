{
 "cells": [
  {
   "cell_type": "markdown",
   "metadata": {},
   "source": [
    "Array concepts list[],"
   ]
  },
  {
   "cell_type": "code",
   "execution_count": 68,
   "metadata": {},
   "outputs": [
    {
     "name": "stdout",
     "output_type": "stream",
     "text": [
      "1:->  [23, 'orange', 32, 'apple']\n",
      "2:->  [23, 'orange', 32, 'apple']\n",
      "\n",
      "3:-> first value of the list ->  23\n",
      "4:-> second value of the list -> orange\n",
      "5:-> last value of the list -> apple\n",
      "6:-> value between [0 to -1] ->  [23, 'orange', 32]\n",
      "7:-> value between [-2 to -1] ->  [32, 'apple']\n",
      "8:-> convert the list into reverse order ->  ['apple', 32, 'orange', 23]\n",
      "\n",
      "8: list[list]->  [[1, 2, 3, 4, 5, 6, 7], ['Bmw', 'Maruthi', 'Hundai', 'Kia', 'MG']]\n"
     ]
    }
   ],
   "source": [
    "# Dynamic list\n",
    "data = [23, \"orange\", 32, \"apple\"]\n",
    "\n",
    "print(\"1:-> \", data)\n",
    "# it is also print the entire list\n",
    "print(\"2:-> \", data[:])\n",
    "\n",
    "print(\"\\n3:-> first value of the list -> \", data[0])\n",
    "print(\"4:-> second value of the list ->\", data[1])\n",
    "print(\"5:-> last value of the list ->\", data[-1])\n",
    "print(\"6:-> value between [0 to -1] -> \", data[:-1])\n",
    "print(\"7:-> value between [-2 to -1] -> \", data[-2:])\n",
    "print(\"8:-> convert the list into reverse order -> \", data[::-1])\n",
    "\n",
    "# Dynamic list[list] data\n",
    "my_data = [[1, 2, 3, 4, 5, 6, 7], ['Bmw', 'Maruthi', 'Hundai', 'Kia', 'MG']]\n",
    "print(\"\\n8: list[list]-> \", my_data)"
   ]
  },
  {
   "cell_type": "markdown",
   "metadata": {},
   "source": [
    "List methods - clear(), insert(), remove(), pop(), extend(), sort(), reverse(), append(), copy(), index(), count()"
   ]
  },
  {
   "cell_type": "code",
   "execution_count": 129,
   "metadata": {},
   "outputs": [
    {
     "name": "stdout",
     "output_type": "stream",
     "text": [
      "1: ->  ['Bmw', 'Hundai', 'Maruthi', 'MG', 'Tata']\n",
      "\n",
      "List methods\n",
      "2: clear(), clearing the entire list data ->  []\n",
      "\n",
      "3: insert(), insert an element to index position ->  ['Bmw', 'Bugati', 'Hundai', 'Maruthi', 'MG', 'Tata']\n",
      "\n",
      "4: remove(), Removes the first item with the specified value, do not remove the duplicates ->  ['Bmw', 'Bugati', 'Hundai', 'Maruthi', 'Tata']\n",
      "\n",
      "5: pop(with_argument), Removes the element at the specified position ->  ['Bmw', 'Hundai', 'MG', 'Tata']\n",
      "6: pop(), Removes the last element from the list ->  ['Bmw', 'Hundai', 'Maruthi', 'MG']\n",
      "\n",
      "7: extend(), Add the elements as in list format, to the end of the current list ->  ['Hero', 'Royal Enfield', 'Honda', 'Susuki', 'Ola', 'Yamaha', 'Tvs', 'Ktm']\n",
      "7.1: extend(), Add the elements as in list format, to the end of the current list ->  ['Hero', 'Royal Enfield', 'Honda', 'Susuki', 'Ola', 'Yamaha', 'Tvs', 'Ktm']\n",
      "\n",
      " orginal:  ['Hero', 'Royal Enfield', 'Honda', 'Susuki', 'Ola']\n",
      "8: sort(), Sorts the list ->  ['Hero', 'Honda', 'Ola', 'Royal Enfield', 'Susuki']\n",
      "\n",
      " orginal:  ['Hero', 'Royal Enfield', 'Honda', 'Susuki', 'Ola']\n",
      "9: reverse(), Reverses the order of the list ->  ['Ola', 'Susuki', 'Honda', 'Royal Enfield', 'Hero']\n",
      "\n",
      " orginal:  ['Hero', 'Royal Enfield', 'Honda', 'Susuki', 'Ola']\n",
      "9.1: reverse(), Reverses the order of the list ->  ['Ola', 'Susuki', 'Honda', 'Royal Enfield', 'Hero']\n",
      "\n",
      " orginal:  ['Hero', 'Royal Enfield', 'Honda', 'Susuki', 'Ola']\n",
      "10: append(), Adds an element at the end of the list ->  ['Hero', 'Royal Enfield', 'Honda', 'Susuki', 'Ola', 'ktm']\n",
      "\n",
      " orginal:  ['Hero', 'Royal Enfield', 'Honda', 'Susuki', 'Ola']\n",
      "11: copy(), Returns a copy of the list ->  ['Hero', 'Royal Enfield', 'Honda', 'Susuki', 'Ola']\n",
      "\n",
      " orginal:  ['Hero', 'Royal Enfield', 'Honda', 'Susuki', 'Ola']\n",
      "12: index(), Returns the index of the first element with the specified value ->  2\n",
      "\n",
      " orginal:  ['Hero', 'Royal Enfield', 'Honda', 'Susuki', 'Ola', 'Ola']\n",
      "13: bikes.count(\"Ola\"), Returns the number of elements with the specified value ->  2\n",
      "13.1: bikes.count(\"Honda\"), Returns the number of elements with the specified value ->  1\n",
      "13.2: bikes.count(\"Car\"), no match found, then retuns zero ->  0\n"
     ]
    }
   ],
   "source": [
    "cars = ['Bmw', 'Hundai', 'Maruthi', 'MG', 'Tata']\n",
    "\n",
    "print('1: -> ', cars)\n",
    "\n",
    "\n",
    "print(\"\\nList methods\")\n",
    "# List methods\n",
    "# 1. clear()\n",
    "cars.clear()\n",
    "print('2: clear(), clearing the entire list data -> ', cars)\n",
    "\n",
    "# 2. insert()\n",
    "cars = ['Bmw', 'Hundai', 'Maruthi', 'MG', 'Tata']\n",
    "#        (index, new value) \n",
    "cars.insert(1, \"Bugati\")\n",
    "print('\\n3: insert(), insert an element to index position -> ', cars)\n",
    "\n",
    "# 3. remove()\n",
    "#         element\n",
    "cars.remove('MG')\n",
    "print('\\n4: remove(), Removes the first item with the specified value, do not remove the duplicates -> ', cars)\n",
    "\n",
    "# 4. pop()\n",
    "cars = ['Bmw', 'Hundai', 'Maruthi', 'MG', 'Tata']\n",
    "#    index position\n",
    "cars.pop(2)\n",
    "print('\\n5: pop(with_argument), Removes the element at the specified position -> ', cars)\n",
    "\n",
    "cars = ['Bmw', 'Hundai', 'Maruthi', 'MG', 'Tata']\n",
    "#  without argument\n",
    "cars.pop() # it will remove the last value from the list, the -1 position\n",
    "print('6: pop(), Removes the last element from the list -> ', cars)\n",
    "\n",
    "# 5. extend()\n",
    "bikes = ['Hero', 'Royal Enfield', 'Honda', 'Susuki', 'Ola']\n",
    "bikes.extend(['Yamaha', 'Tvs', 'Ktm'])\n",
    "print('\\n7: extend(), Add the elements as in list format, to the end of the current list -> ', bikes)\n",
    "# or\n",
    "bikes = ['Hero', 'Royal Enfield', 'Honda', 'Susuki', 'Ola']\n",
    "bikes2 =['Yamaha', 'Tvs', 'Ktm']\n",
    "bikes.extend(bikes2)\n",
    "print('7.1: extend(), Add the elements as in list format, to the end of the current list -> ', bikes)\n",
    "\n",
    "# 6. sort()\n",
    "bikes = ['Hero', 'Royal Enfield', 'Honda', 'Susuki', 'Ola']\n",
    "print(\"\\n orginal: \",bikes)\n",
    "bikes.sort()\n",
    "print('8: sort(), Sorts the list -> ', bikes)\n",
    "\n",
    "# 7. reverse()\n",
    "bikes = ['Hero', 'Royal Enfield', 'Honda', 'Susuki', 'Ola']\n",
    "print(\"\\n orginal: \",bikes)\n",
    "bikes.reverse()\n",
    "print('9: reverse(), Reverses the order of the list -> ', bikes)\n",
    "\n",
    "# or\n",
    "bikes = ['Hero', 'Royal Enfield', 'Honda', 'Susuki', 'Ola']\n",
    "print(\"\\n orginal: \",bikes)\n",
    "print('9.1: reverse(), Reverses the order of the list -> ', bikes[::-1])\n",
    "\n",
    "# 8. append()\n",
    "bikes = ['Hero', 'Royal Enfield', 'Honda', 'Susuki', 'Ola']\n",
    "print(\"\\n orginal: \",bikes)\n",
    "bikes.append('ktm')\n",
    "print('10: append(), Adds an element at the end of the list -> ', bikes)\n",
    "\n",
    "# 9. copy()\n",
    "bikes = ['Hero', 'Royal Enfield', 'Honda', 'Susuki', 'Ola']\n",
    "print(\"\\n orginal: \",bikes)\n",
    "data = bikes.copy()\n",
    "print('11: copy(), Returns a copy of the list -> ', data)\n",
    "\n",
    "\n",
    "# 10. index()\n",
    "bikes = ['Hero', 'Royal Enfield', 'Honda', 'Susuki', 'Ola']\n",
    "print(\"\\n orginal: \",bikes)\n",
    "print('12: index(), Returns the index of the first element with the specified value -> ', bikes.index('Honda'))\n",
    "\n",
    "# 11. count()\n",
    "bikes = ['Hero', 'Royal Enfield', 'Honda', 'Susuki', 'Ola', 'Ola']\n",
    "print(\"\\n orginal: \",bikes)\n",
    "result = bikes.count(\"Ola\")\n",
    "print('13: bikes.count(\"Ola\"), Returns the number of elements with the specified value -> ', result)\n",
    "result = bikes.count(\"Honda\")\n",
    "print('13.1: bikes.count(\"Honda\"), Returns the number of elements with the specified value -> ', result)\n",
    "result = bikes.count(\"Car\")\n",
    "print('13.2: bikes.count(\"Car\"), no match found, then returns zero -> ', result)\n",
    "\n",
    "\n"
   ]
  },
  {
   "cell_type": "markdown",
   "metadata": {},
   "source": [
    "Python built-in functions - del, min, max, len"
   ]
  },
  {
   "cell_type": "code",
   "execution_count": 88,
   "metadata": {},
   "outputs": [
    {
     "name": "stdout",
     "output_type": "stream",
     "text": [
      "['Hero', 'Royal Enfield', 'Honda', 'Susuki', 'Ola']\n",
      "\n",
      "1: del cars[0] -> ['Royal Enfield', 'Honda', 'Susuki', 'Ola']\n",
      "2: del cars[0] -> ['Hero', 'Royal Enfield', 'Honda', 'Susuki']\n",
      "3: del bikes[:] empty the list -> []\n",
      "4: bikes[0:2] # removes elements between [0 to 2] -> ['Honda', 'Susuki', 'Ola']\n",
      "4.1: bikes[:2] # removes elements between [0 to 2] -> ['Honda', 'Susuki', 'Ola']\n",
      "5: bikes[:2] # removes elements between [0 to 2] -> ['Hero', 'Royal Enfield', 'Honda', 'Susuki']\n",
      "6: bikes[:2] # removes elements between [0 to -2] -> ['Ola']\n",
      "7: bikes[:2] # removes elements between [-1 to n] -> ['Hero', 'Royal Enfield', 'Honda', 'Susuki']\n"
     ]
    }
   ],
   "source": [
    "# 1. del function\n",
    "\n",
    "bikes = ['Hero', 'Royal Enfield', 'Honda', 'Susuki', 'Ola']\n",
    "print(bikes)\n",
    "del bikes[0] # deleting the 0th index value\n",
    "print(\"\\n1: del cars[0] ->\", bikes)\n",
    "\n",
    "bikes = ['Hero', 'Royal Enfield', 'Honda', 'Susuki', 'Ola']\n",
    "del bikes[-1] # deleting the last index value\n",
    "print(\"2: del cars[0] ->\", bikes)\n",
    "\n",
    "bikes = ['Hero', 'Royal Enfield', 'Honda', 'Susuki', 'Ola']\n",
    "del bikes[:] # empty the objects from list\n",
    "print(\"3: del bikes[:] empty the list ->\", bikes)\n",
    "\n",
    "\n",
    "bikes = ['Hero', 'Royal Enfield', 'Honda', 'Susuki', 'Ola']\n",
    "del bikes[0:2] # removes elements between [0 to 2]\n",
    "print(\"4: bikes[0:2] # removes elements between [0 to 2] ->\", bikes)\n",
    "\n",
    "# or -> both are same\n",
    "\n",
    "bikes = ['Hero', 'Royal Enfield', 'Honda', 'Susuki', 'Ola']\n",
    "del bikes[:2] # removes elements between [0 to 2]\n",
    "print(\"4.1: bikes[:2] # removes elements between [0 to 2] ->\", bikes)\n",
    "\n",
    "bikes = ['Hero', 'Royal Enfield', 'Honda', 'Susuki', 'Ola']\n",
    "del bikes[-1] # removes elements between [0 to 2]\n",
    "print(\"5: bikes[:2] # removes elements between [0 to 2] ->\", bikes)\n",
    "\n",
    "bikes = ['Hero', 'Royal Enfield', 'Honda', 'Susuki', 'Ola']\n",
    "del bikes[:-1] # removes elements between [0 to -2]\n",
    "print(\"6: bikes[:2] # removes elements between [0 to -2] ->\", bikes)\n",
    "bikes = ['Hero', 'Royal Enfield', 'Honda', 'Susuki', 'Ola']\n",
    "\n",
    "del bikes[-1:] # removes elements between [-1 to n]\n",
    "print(\"7: bikes[:2] # removes elements between [-1 to n] ->\", bikes)\n"
   ]
  },
  {
   "cell_type": "code",
   "execution_count": 143,
   "metadata": {},
   "outputs": [
    {
     "name": "stdout",
     "output_type": "stream",
     "text": [
      "[23, 42, 33, 54, 45]\n",
      "1: minimum value of the list ->  23\n",
      "1: minimum value of the list ->  54\n"
     ]
    }
   ],
   "source": [
    "# 2. min and max function\n",
    "\n",
    "bikes = [23, 42, 33, 54, 45]\n",
    "print(bikes)\n",
    "\n",
    "print(\"1: minimum value of the list -> \", min(bikes))\n",
    "print(\"1: minimum value of the list -> \", max(bikes))\n",
    "\n"
   ]
  },
  {
   "cell_type": "code",
   "execution_count": 148,
   "metadata": {},
   "outputs": [
    {
     "name": "stdout",
     "output_type": "stream",
     "text": [
      "length of the list ->  5\n"
     ]
    }
   ],
   "source": [
    "# 4. len function\n",
    "\n",
    "bikes = ['Hero', 'Royal Enfield', 'Honda', 'Susuki', 'Ola']\n",
    "print('length of the list -> ', len(bikes))\n"
   ]
  }
 ],
 "metadata": {
  "kernelspec": {
   "display_name": "Python 3",
   "language": "python",
   "name": "python3"
  },
  "language_info": {
   "codemirror_mode": {
    "name": "ipython",
    "version": 3
   },
   "file_extension": ".py",
   "mimetype": "text/x-python",
   "name": "python",
   "nbconvert_exporter": "python",
   "pygments_lexer": "ipython3",
   "version": "3.10.8"
  }
 },
 "nbformat": 4,
 "nbformat_minor": 2
}
