{
 "cells": [
  {
   "cell_type": "markdown",
   "metadata": {},
   "source": [
    "#### Array concept -> set{} -> unordered, unindexed(index calling is not allowed), changable(), do not allow duplicate values."
   ]
  },
  {
   "cell_type": "code",
   "execution_count": 21,
   "metadata": {},
   "outputs": [
    {
     "name": "stdout",
     "output_type": "stream",
     "text": [
      "1: original set ->  {1, 2, 3, 4, 5, 6, 'cat'}\n",
      "2: adding a value from set with in a random index ->  {1, 2, 3, 4, 5, 6, 'cat', 'rat'}\n",
      "3: removing a value from set ->  {1, 2, 3, 5, 6, 'cat', 'rat'}\n",
      "4: removing one value from left side of the set ->  {2, 3, 5, 6, 'cat', 'rat'}\n"
     ]
    }
   ],
   "source": [
    "# set - set using hash\n",
    "data = {1, 2, 3, 4, 5, 6, \"cat\"}\n",
    "print(\"1: original set -> \", data)\n",
    "\n",
    "\n",
    "# tuple methods\n",
    "data.add('rat')\n",
    "print(\"2: adding a value from set with in a random index -> \", data)\n",
    "data.remove(4)\n",
    "print(\"3: removing a value from set -> \", data)\n",
    "data.pop()\n",
    "print(\"4: removing one value from left side of the set -> \", data)\n",
    "\n",
    "\n"
   ]
  },
  {
   "cell_type": "code",
   "execution_count": 23,
   "metadata": {},
   "outputs": [
    {
     "name": "stdout",
     "output_type": "stream",
     "text": [
      "{True, 2, 'cherry', 'banana', 'apple'}\n"
     ]
    }
   ],
   "source": [
    "# The values True and 1 are considered the same value in sets, and are treated as duplicates:\n",
    "\n",
    "set1 = {\"apple\", \"banana\", \"cherry\", True, 1, 2}\n",
    "# True and 1 is considered the same value:\n",
    "print(set1)"
   ]
  },
  {
   "cell_type": "code",
   "execution_count": 24,
   "metadata": {},
   "outputs": [
    {
     "name": "stdout",
     "output_type": "stream",
     "text": [
      "{False, True, 'cherry', 'banana', 'apple'}\n"
     ]
    }
   ],
   "source": [
    "# The values False and 0 are considered the same value in sets, and are treated as duplicates:\n",
    "\n",
    "# False and 0 is considered the same value:\n",
    "set2 = {\"apple\", \"banana\", \"cherry\", False, True, 0}\n",
    "print(set2)"
   ]
  },
  {
   "cell_type": "markdown",
   "metadata": {},
   "source": [
    "#### built-in functions - len(), del()"
   ]
  },
  {
   "cell_type": "code",
   "execution_count": 26,
   "metadata": {},
   "outputs": [
    {
     "name": "stdout",
     "output_type": "stream",
     "text": [
      "{'rabbit', 'cat', 'dog', 'elephant', 'rat', 'cow'}\n",
      "length of set is :  6\n"
     ]
    }
   ],
   "source": [
    "# len()\n",
    "animals = {'cat', 'dog', 'rat', 'elephant', 'rabbit', 'cow'}\n",
    "print(animals)\n",
    "\n",
    "print('length of set is : ', len(animals))"
   ]
  },
  {
   "cell_type": "code",
   "execution_count": 27,
   "metadata": {},
   "outputs": [
    {
     "name": "stdout",
     "output_type": "stream",
     "text": [
      "{'rabbit', 'cat', 'dog', 'elephant', 'rat', 'cow'}\n"
     ]
    },
    {
     "ename": "NameError",
     "evalue": "name 'animals' is not defined",
     "output_type": "error",
     "traceback": [
      "\u001b[0;31m---------------------------------------------------------------------------\u001b[0m",
      "\u001b[0;31mNameError\u001b[0m                                 Traceback (most recent call last)",
      "Cell \u001b[0;32mIn[27], line 6\u001b[0m\n\u001b[1;32m      4\u001b[0m \u001b[38;5;66;03m# deleting the set\u001b[39;00m\n\u001b[1;32m      5\u001b[0m \u001b[38;5;28;01mdel\u001b[39;00m animals\n\u001b[0;32m----> 6\u001b[0m \u001b[38;5;28mprint\u001b[39m(\u001b[43manimals\u001b[49m)\n",
      "\u001b[0;31mNameError\u001b[0m: name 'animals' is not defined"
     ]
    }
   ],
   "source": [
    "# del\n",
    "animals = {'cat', 'dog', 'rat', 'elephant', 'rabbit', 'cow'}\n",
    "print(animals)\n",
    "# deleting the set\n",
    "del animals\n",
    "print(animals)"
   ]
  }
 ],
 "metadata": {
  "kernelspec": {
   "display_name": "Python 3",
   "language": "python",
   "name": "python3"
  },
  "language_info": {
   "codemirror_mode": {
    "name": "ipython",
    "version": 3
   },
   "file_extension": ".py",
   "mimetype": "text/x-python",
   "name": "python",
   "nbconvert_exporter": "python",
   "pygments_lexer": "ipython3",
   "version": "3.10.8"
  }
 },
 "nbformat": 4,
 "nbformat_minor": 2
}
