{
 "cells": [
  {
   "cell_type": "markdown",
   "metadata": {},
   "source": [
    "Array concept - tuple() -> tuple is immutable(unchangeable),  ordered"
   ]
  },
  {
   "cell_type": "code",
   "execution_count": 31,
   "metadata": {},
   "outputs": [
    {
     "name": "stdout",
     "output_type": "stream",
     "text": [
      "<class 'tuple'>\n",
      "1: just printing the tuple -> (1, 2, 3, 4, 5, 'test', 'car')\n",
      "1.1: this is also same as above [0:-1]-> (1, 2, 3, 4, 5, 'test', 'car')\n",
      "\n",
      "2: printing one tuple value with using index number -> 2\n",
      "3: printing last value of the tuple -> car\n",
      "\n",
      "4: printing range value from [3 to 4] -> (4, 5)\n",
      "5: printing range value from [3 to 5] -> (4, 5, 'test')\n",
      "6: printing range value from [0 to -2] -> (1, 2, 3, 4, 5, 'test')\n",
      "7: printing range value from [1- to n] -> ('car',)\n",
      "7: reversing the order of tuple -> ('car', 'test', 5, 4, 3, 2, 1)\n"
     ]
    }
   ],
   "source": [
    "data = (1, 2, 3, 4, 5, \"test\", \"car\")\n",
    "\n",
    "print(type(data))\n",
    "print(\"1: just printing the tuple ->\", data)\n",
    "print(\"1.1: this is also same as above [0:-1]->\" ,data[:])\n",
    "\n",
    "print(\"\\n2: printing one tuple value with using index number ->\" ,data[1])\n",
    "print(\"3: printing last value of the tuple ->\" ,data[-1])\n",
    "\n",
    "print(\"\\n4: printing range value from [3 to 4] ->\" ,data[3:5])\n",
    "print(\"5: printing range value from [3 to 5] ->\" ,data[3:5+1])\n",
    "print(\"6: printing range value from [0 to -2] ->\" ,data[:-1])\n",
    "print(\"7: printing range value from [1- to n] ->\" ,data[-1:])\n",
    "print(\"7: reversing the order of tuple ->\" ,data[::-1])\n"
   ]
  },
  {
   "cell_type": "markdown",
   "metadata": {},
   "source": [
    "List comprehension in tuple"
   ]
  },
  {
   "cell_type": "code",
   "execution_count": 41,
   "metadata": {},
   "outputs": [
    {
     "name": "stdout",
     "output_type": "stream",
     "text": [
      "(1, 2, 3, 4, 5, 'test', 'car')\n",
      "\n",
      "1: is car present-> True\n"
     ]
    }
   ],
   "source": [
    "# Check if Item Exists - Check if \"car\" is present in the tuple:\n",
    "data = (1, 2, 3, 4, 5, \"test\", \"car\")\n",
    "print(data)\n",
    "                            # using list comprehension\n",
    "print(\"\\n1: is car present->\", 'True' if 'car' in data else 'false')"
   ]
  },
  {
   "cell_type": "markdown",
   "metadata": {},
   "source": [
    "### Change Tuple Values\n",
    "Tuples are unchangeable, meaning that you cannot change, add, or remove items once the tuple is created.\n",
    "You can convert the tuple into a list, change the list, and convert the list back into a tuple."
   ]
  },
  {
   "cell_type": "code",
   "execution_count": 8,
   "metadata": {},
   "outputs": [
    {
     "name": "stdout",
     "output_type": "stream",
     "text": [
      "1:- original tuple -> ('orange', 'apple', 'grape', 'banana', 'musambi', 'watermelon', 'guava')\n",
      "2:- converted tuple to list -> ('orange', 'apple', 'grape', 'banana', 'musambi', 'watermelon', 'guava')\n",
      "3:- converted back the list to tuple -> ('kiwi', 'apple', 'grape', 'banana', 'musambi', 'watermelon', 'guava')\n"
     ]
    }
   ],
   "source": [
    "fruits = ('orange', 'apple', 'grape', 'banana', 'musambi', 'watermelon', 'guava')\n",
    "print(\"1:- original tuple ->\" ,fruits)\n",
    "\n",
    "_list = list(fruits)\n",
    "print(\"2:- converted tuple to list ->\" ,fruits)\n",
    "\n",
    "_list[0] = 'kiwi'\n",
    "fruits = tuple(_list)\n",
    "print(\"3:- converted back the list to tuple ->\" ,fruits)\n"
   ]
  },
  {
   "cell_type": "markdown",
   "metadata": {},
   "source": [
    "### Add items\n",
    "\n",
    "Since tuples are immutable, they do not have a built-in append() method, but there are other ways to add items to a tuple. You can convert it into a list, add your item(s), and convert it back into a tuple."
   ]
  },
  {
   "cell_type": "code",
   "execution_count": 14,
   "metadata": {},
   "outputs": [
    {
     "name": "stdout",
     "output_type": "stream",
     "text": [
      "1:- original tuple -> ('orange', 'apple', 'grape', 'banana', 'musambi', 'watermelon', 'guava')\n",
      "2:- converted tuple to list -> ('orange', 'apple', 'grape', 'banana', 'musambi', 'watermelon', 'guava')\n",
      "3:- converted back the list to tuple -> ('orange', 'apple', 'grape', 'banana', 'musambi', 'watermelon', 'guava', 'mango')\n"
     ]
    }
   ],
   "source": [
    "fruits = ('orange', 'apple', 'grape', 'banana', 'musambi', 'watermelon', 'guava')\n",
    "print(\"1:- original tuple ->\" ,fruits)\n",
    "\n",
    "_list = list(fruits)\n",
    "print(\"2:- converted tuple to list ->\" ,fruits)\n",
    "\n",
    "_list.append('mango') # adding value to the end of the list\n",
    "fruits = tuple(_list)\n",
    "print(\"3:- converted back the list to tuple ->\" ,fruits)"
   ]
  },
  {
   "cell_type": "markdown",
   "metadata": {},
   "source": [
    "### Add tuple to a tuple.\n",
    "\n",
    "combining two tuples into one"
   ]
  },
  {
   "cell_type": "code",
   "execution_count": 20,
   "metadata": {},
   "outputs": [
    {
     "name": "stdout",
     "output_type": "stream",
     "text": [
      "('orange', 'apple', 'grape', 'musambi', 'watermelon', 'guava')\n"
     ]
    }
   ],
   "source": [
    "fruits1 = ('orange', 'apple', 'grape')\n",
    "fruits2 = ('musambi', 'watermelon', 'guava')\n",
    "\n",
    "print(fruits1 + fruits2)"
   ]
  },
  {
   "cell_type": "markdown",
   "metadata": {},
   "source": [
    "### Remove Items\n",
    "Tuples are unchangeable, so you cannot remove items from it, but you can use the same method"
   ]
  },
  {
   "cell_type": "code",
   "execution_count": 25,
   "metadata": {},
   "outputs": [
    {
     "name": "stdout",
     "output_type": "stream",
     "text": [
      "1:- original tuple -> ('orange', 'apple', 'grape')\n",
      "1:- removed one item -> ('apple', 'grape')\n"
     ]
    }
   ],
   "source": [
    "fruits = ('orange', 'apple', 'grape')\n",
    "print(\"1:- original tuple ->\" ,fruits)\n",
    "\n",
    "_list = list(fruits)\n",
    "_list.remove('orange')\n",
    "fruits = tuple(_list)\n",
    "print(\"2:- removed one item ->\" ,fruits)\n"
   ]
  },
  {
   "cell_type": "markdown",
   "metadata": {},
   "source": [
    "Deleting tuple"
   ]
  },
  {
   "cell_type": "code",
   "execution_count": 30,
   "metadata": {},
   "outputs": [
    {
     "name": "stdout",
     "output_type": "stream",
     "text": [
      "1:- original tuple -> ('orange', 'apple', 'grape')\n"
     ]
    },
    {
     "ename": "NameError",
     "evalue": "name 'fruits' is not defined",
     "output_type": "error",
     "traceback": [
      "\u001b[0;31m---------------------------------------------------------------------------\u001b[0m",
      "\u001b[0;31mNameError\u001b[0m                                 Traceback (most recent call last)",
      "Cell \u001b[0;32mIn[30], line 5\u001b[0m\n\u001b[1;32m      2\u001b[0m \u001b[38;5;28mprint\u001b[39m(\u001b[38;5;124m\"\u001b[39m\u001b[38;5;124m1:- original tuple ->\u001b[39m\u001b[38;5;124m\"\u001b[39m ,fruits)\n\u001b[1;32m      4\u001b[0m \u001b[38;5;28;01mdel\u001b[39;00m fruits \u001b[38;5;66;03m# it will delete the tuple from memory\u001b[39;00m\n\u001b[0;32m----> 5\u001b[0m \u001b[38;5;28mprint\u001b[39m(\u001b[43mfruits\u001b[49m) \u001b[38;5;66;03m# it will make error, because the item is not exist\u001b[39;00m\n",
      "\u001b[0;31mNameError\u001b[0m: name 'fruits' is not defined"
     ]
    }
   ],
   "source": [
    "fruits = ('orange', 'apple', 'grape')\n",
    "print(\"1:- original tuple ->\" ,fruits)\n",
    "\n",
    "del fruits # it will delete the tuple from memory\n",
    "print(fruits) # it will make error, because the item is not exist"
   ]
  }
 ],
 "metadata": {
  "kernelspec": {
   "display_name": "Python 3",
   "language": "python",
   "name": "python3"
  },
  "language_info": {
   "codemirror_mode": {
    "name": "ipython",
    "version": 3
   },
   "file_extension": ".py",
   "mimetype": "text/x-python",
   "name": "python",
   "nbconvert_exporter": "python",
   "pygments_lexer": "ipython3",
   "version": "3.10.8"
  }
 },
 "nbformat": 4,
 "nbformat_minor": 2
}
