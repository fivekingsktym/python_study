{
 "cells": [
  {
   "cell_type": "markdown",
   "metadata": {},
   "source": [
    "### Bitwise operator\n",
    "\n",
    "- complement (~) -> tilde operator\n",
    "<br> - example\n",
    "<br>  00001100 - binary 12\n",
    "<br>  11110011 - binary ~12 becomes -13\n",
    "\n",
    "\n",
    "- And (&)\n",
    "- Or (|)\n",
    "- XOR (^)\n",
    "- Left Shift (<<)\n",
    "- Right Shift (>>)"
   ]
  },
  {
   "cell_type": "code",
   "execution_count": 16,
   "metadata": {},
   "outputs": [
    {
     "name": "stdout",
     "output_type": "stream",
     "text": [
      "-13\n"
     ]
    }
   ],
   "source": [
    "# complement (~) -> tilde operator\n",
    "\n",
    "#  - example\n",
    "#   00001100 - binary 12\n",
    "#   11110011 - binary ~12 (reversing the binary value, when [0 becomes 1] and [1 becomes 0])\n",
    "\n",
    "# 2's compliment = 1's compliment + 1\n",
    "# \n",
    "#   00001101 - binary 13, calculate 1's compliment (reversing the binary value, when [0 becomes 1] and [1 becomes 0])\n",
    "#   11110010+ -> this is 1's compliment\n",
    "#          1  -> adding 1\n",
    "#   ---------\n",
    "#   11110011  -> this is 2's compliment (-13)\n",
    "\n",
    "# finally the 12 reverse form and 2's compliment of 13 are same, so it will get the number -13\n",
    "print(~12)\n"
   ]
  },
  {
   "cell_type": "code",
   "execution_count": 3,
   "metadata": {},
   "outputs": [
    {
     "name": "stdout",
     "output_type": "stream",
     "text": [
      "12\n",
      "24\n"
     ]
    }
   ],
   "source": [
    "# And (&) operator\n",
    "    # truth table\n",
    "    # 0  0  0\n",
    "    # 0  1  0\n",
    "    # 1  0  0\n",
    "    # 1  1  1\n",
    "\n",
    "print(12 & 13)  # 12 is 00001100 and 13 is 00001101\n",
    "                # 00001100 - 12\n",
    "                # 00001101 - 13\n",
    "                # --------    calculation based on truth table\n",
    "                # 00001100 - it will get 12\n",
    "\n",
    "print(25 & 30)  # \n",
    "                # 11001 - 25\n",
    "                # 11110 - 30\n",
    "                # --------    calculation based on truth table\n",
    "                # 11000 - it will get 24"
   ]
  },
  {
   "cell_type": "code",
   "execution_count": 5,
   "metadata": {},
   "outputs": [
    {
     "name": "stdout",
     "output_type": "stream",
     "text": [
      "13\n",
      "31\n"
     ]
    }
   ],
   "source": [
    "# Or (|) operator\n",
    "\n",
    "print(12 | 13)  # 12 is 00001100 and 13 is 00001101\n",
    "                # 00001100 - 12\n",
    "                # 00001101 - 13\n",
    "                # --------    calculation based on truth table\n",
    "                # 00001101 - it will get 13\n",
    "\n",
    "print(25 | 30)  # \n",
    "                # 11001 - 25\n",
    "                # 11110 - 30\n",
    "                # --------    calculation based on truth table\n",
    "                # 11111 - it will get 31"
   ]
  },
  {
   "cell_type": "code",
   "execution_count": 8,
   "metadata": {},
   "outputs": [
    {
     "name": "stdout",
     "output_type": "stream",
     "text": [
      "1\n",
      "7\n"
     ]
    }
   ],
   "source": [
    "# XOR (^) operator\n",
    "\n",
    "#  0 0 -> 0  in the truth table added value of odd number becomes 1, even is 0 \n",
    "#  0 1 -> 1\n",
    "#  1 0 -> 1\n",
    "#  1 1 -> 0\n",
    "\n",
    "\n",
    "print(12 ^ 13)  # 12 is 00001100 and 13 is 00001101\n",
    "                # 00001100 - 12\n",
    "                # 00001101 - 13\n",
    "                # --------    calculation based on truth table\n",
    "                # 00000001 - it will get 1\n",
    "\n",
    "\n",
    "print(25 ^ 30)  # \n",
    "                # 11001 - 25\n",
    "                # 11110 - 30\n",
    "                # --------    calculation based on truth table\n",
    "                # 00111 - it will get 7"
   ]
  },
  {
   "cell_type": "code",
   "execution_count": 15,
   "metadata": {},
   "outputs": [
    {
     "name": "stdout",
     "output_type": "stream",
     "text": [
      "40\n",
      "100\n"
     ]
    }
   ],
   "source": [
    "# Left Shift (<<) operator\n",
    "\n",
    "print(10 << 2)  # 10 is 1010, so add two bits in the right side to binary value 1010 + 00\n",
    "                # 1010 + 00\n",
    "                # 101000 - it will get 40\n",
    "\n",
    "print(25 << 2)  # 25 is 11001, so add two bits in the right side to binary value 10100 + 00\n",
    "                # 11001 + 00\n",
    "                # 1100100 - it will get 100"
   ]
  },
  {
   "cell_type": "code",
   "execution_count": 17,
   "metadata": {},
   "outputs": [
    {
     "name": "stdout",
     "output_type": "stream",
     "text": [
      "2\n",
      "6\n"
     ]
    }
   ],
   "source": [
    "# right Shift (>>) operator\n",
    "\n",
    "print(10 >> 2)  # 10 is 1010, so remove two bits in the right side to binary value 1010, it becomes 10\n",
    "                # 1010 -> becomes 10, the 10 is decimal 2\n",
    "                #      -> it will get 2\n",
    "\n",
    "print(25 >> 2)  # 25 is 11001, so remove two bits in the right side to binary value 11001, it becomes 110\n",
    "                # 11001 -> becomes 110, the 110 is decimal 6\n",
    "                #      -> it will get 6"
   ]
  }
 ],
 "metadata": {
  "kernelspec": {
   "display_name": "Python 3",
   "language": "python",
   "name": "python3"
  },
  "language_info": {
   "codemirror_mode": {
    "name": "ipython",
    "version": 3
   },
   "file_extension": ".py",
   "mimetype": "text/x-python",
   "name": "python",
   "nbconvert_exporter": "python",
   "pygments_lexer": "ipython3",
   "version": "3.10.8"
  }
 },
 "nbformat": 4,
 "nbformat_minor": 2
}
