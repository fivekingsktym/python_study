{
 "cells": [
  {
   "cell_type": "markdown",
   "metadata": {},
   "source": [
    "#### Linear Search"
   ]
  },
  {
   "cell_type": "code",
   "execution_count": 91,
   "metadata": {},
   "outputs": [
    {
     "name": "stdout",
     "output_type": "stream",
     "text": [
      "The number is found at index 4\n"
     ]
    }
   ],
   "source": [
    "# find a number in the list using a function with for loop\n",
    "n = 9 # searching number\n",
    "_list = [5, 8, 4, 6, 9, 2]\n",
    "\n",
    "\n",
    "pos = 0 #global variable\n",
    "\n",
    "def search(_list, n):\n",
    "    for i in _list:\n",
    "        # print(i)\n",
    "        if n == i:\n",
    "            globals()['pos'] = _list.index(i)\n",
    "            return True\n",
    "\n",
    "    return False\n",
    "\n",
    "\n",
    "\n",
    "if search(_list, n):\n",
    "    print(f\"The number is found at index {pos}\")\n",
    "else:\n",
    "    print(\"The number is not found\")\n"
   ]
  },
  {
   "cell_type": "code",
   "execution_count": 92,
   "metadata": {},
   "outputs": [
    {
     "name": "stdout",
     "output_type": "stream",
     "text": [
      "The number is found at index 5\n"
     ]
    }
   ],
   "source": [
    "# find a number in the list using a function with while loop\n",
    "n = 2 # searching number\n",
    "_list = [5, 8, 4, 6, 9, 2]\n",
    "\n",
    "\n",
    "pos = 0 #global variable\n",
    "\n",
    "def search(_list, n):\n",
    "    i = 0\n",
    "    while i < len(_list):\n",
    "        if n == _list[i]:\n",
    "            globals()['pos'] = i\n",
    "            return True\n",
    "\n",
    "        i += 1\n",
    "    return False\n",
    "\n",
    "\n",
    "\n",
    "if search(_list, n):\n",
    "    print(f\"The number is found at index {pos}\")\n",
    "else:\n",
    "    print(\"The number is not found\")\n"
   ]
  }
 ],
 "metadata": {
  "kernelspec": {
   "display_name": "Python 3",
   "language": "python",
   "name": "python3"
  },
  "language_info": {
   "codemirror_mode": {
    "name": "ipython",
    "version": 3
   },
   "file_extension": ".py",
   "mimetype": "text/x-python",
   "name": "python",
   "nbconvert_exporter": "python",
   "pygments_lexer": "ipython3",
   "version": "3.12.1"
  }
 },
 "nbformat": 4,
 "nbformat_minor": 2
}
