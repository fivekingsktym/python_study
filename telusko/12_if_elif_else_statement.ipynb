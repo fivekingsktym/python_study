{
 "cells": [
  {
   "cell_type": "markdown",
   "metadata": {},
   "source": [
    "### if, elif, else statement in python"
   ]
  },
  {
   "cell_type": "code",
   "execution_count": 1,
   "metadata": {},
   "outputs": [
    {
     "name": "stdout",
     "output_type": "stream",
     "text": [
      "True.... \n"
     ]
    }
   ],
   "source": [
    "# if\n",
    "if True:\n",
    "    print('True.... ')\n",
    "else:\n",
    "    print('False....')"
   ]
  },
  {
   "cell_type": "code",
   "execution_count": 2,
   "metadata": {},
   "outputs": [
    {
     "name": "stdout",
     "output_type": "stream",
     "text": [
      "The number is odd\n"
     ]
    }
   ],
   "source": [
    "# Odd or even\n",
    "\n",
    "# The num variable is initialized by the walrus operator (:=)\n",
    "if (num:= 11) % 2 == 0:\n",
    "    print('The number is even')\n",
    "else:\n",
    "    print('The number is odd')"
   ]
  },
  {
   "cell_type": "code",
   "execution_count": 3,
   "metadata": {},
   "outputs": [
    {
     "name": "stdout",
     "output_type": "stream",
     "text": [
      "second  elif statement\n"
     ]
    }
   ],
   "source": [
    "# elif\n",
    "num = 4\n",
    "\n",
    "if num == 2:\n",
    "    print('first if statement')\n",
    "\n",
    "elif num == 4:    \n",
    "    print('second  elif statement')\n",
    "\n",
    "elif num == 6:    \n",
    "    print('Third  elif statement')\n",
    "\n",
    "else:\n",
    "    print(\"else block\")"
   ]
  }
 ],
 "metadata": {
  "kernelspec": {
   "display_name": "Python 3 (ipykernel)",
   "language": "python",
   "name": "python3"
  },
  "language_info": {
   "codemirror_mode": {
    "name": "ipython",
    "version": 3
   },
   "file_extension": ".py",
   "mimetype": "text/x-python",
   "name": "python",
   "nbconvert_exporter": "python",
   "pygments_lexer": "ipython3",
   "version": "3.10.13"
  }
 },
 "nbformat": 4,
 "nbformat_minor": 2
}
