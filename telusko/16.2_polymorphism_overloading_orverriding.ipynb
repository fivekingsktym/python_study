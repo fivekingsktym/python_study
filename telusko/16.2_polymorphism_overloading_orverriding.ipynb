{
 "cells": [
  {
   "cell_type": "markdown",
   "metadata": {},
   "source": [
    "#### Polymorphism -> Method overloading and overriding"
   ]
  },
  {
   "cell_type": "markdown",
   "metadata": {},
   "source": [
    "##### Method overloading\n",
    "\n",
    "Method overloading is when multiple methods have the same name but different parameters. Python does not support method overloading directly, but it can be achieved using default arguments or variable-length arguments.\n"
   ]
  },
  {
   "cell_type": "code",
   "execution_count": 40,
   "metadata": {},
   "outputs": [
    {
     "name": "stdout",
     "output_type": "stream",
     "text": [
      "2\n",
      "5\n",
      "9\n"
     ]
    }
   ],
   "source": [
    "# Method Overloading with Default Arguments:- example1\n",
    "\n",
    "class Student:\n",
    "    def add(self, a=None, b=None, c=None):\n",
    "\n",
    "        result = 0\n",
    "        if a!= None and b!= None and c!= None:\n",
    "            result = a+b+c\n",
    "        elif a!=None and b!=None:\n",
    "            result = a+b\n",
    "        else:\n",
    "            result = a\n",
    "\n",
    "        return result\n",
    "\n",
    "        # <or we can use>\n",
    "\n",
    "        # if a and b and c:\n",
    "        #     result = a+b+c\n",
    "        # elif a and b:\n",
    "        #     result = a+b\n",
    "        # else:\n",
    "        #     result = a\n",
    "\n",
    "        # return result\n",
    "\n",
    "\n",
    "\n",
    "obj = Student()\n",
    "\n",
    "print(obj.add(2))\n",
    "print(obj.add(2, 3))\n",
    "print(obj.add(2, 3, 4))"
   ]
  },
  {
   "cell_type": "code",
   "execution_count": 8,
   "metadata": {},
   "outputs": [
    {
     "name": "stdout",
     "output_type": "stream",
     "text": [
      "10\n",
      "50\n",
      "60\n"
     ]
    }
   ],
   "source": [
    "# Method Overloading with Default Arguments:- example2\n",
    "\n",
    "class Calculator:\n",
    "\n",
    "    def add(self, a=0, b=0, c=0):\n",
    "        result = a+b+c\n",
    "        return result\n",
    "\n",
    "\n",
    "obj = Calculator()\n",
    "\n",
    "print(obj.add(10))\n",
    "print(obj.add(20, 30))\n",
    "print(obj.add(10, 20, 30))\n",
    "\n",
    "# but, here is a problem, when we have more than 3 arguments, it will make positonal argument error, \n",
    "# so python have a feature, that is Method Overloading with Variable-Length Arguments"
   ]
  },
  {
   "cell_type": "code",
   "execution_count": 32,
   "metadata": {},
   "outputs": [
    {
     "name": "stdout",
     "output_type": "stream",
     "text": [
      "printing all args in tuple format :  (20,)\n",
      "20 \n",
      "\n",
      "printing all args in tuple format :  (20, 10)\n",
      "30 \n",
      "\n",
      "printing all args in tuple format :  (20, 10, 20)\n",
      "50 \n",
      "\n"
     ]
    }
   ],
   "source": [
    "# Method Overloading with Variable-Length Arguments:\n",
    "\n",
    "class Calculator:\n",
    "    def add(self, *args):\n",
    "        print('printing all args in tuple format : ', args) #the args is a tuple type\n",
    "        \n",
    "        # adding the number using the help of for loop\n",
    "        # result = 0\n",
    "        # for x in args:\n",
    "        #     result += x\n",
    "\n",
    "        # <or we can use>\n",
    "\n",
    "        # adding the number using the help of python sum() method\n",
    "        result = sum(args)\n",
    "\n",
    "        return result\n",
    "\n",
    "obj = Calculator()\n",
    "\n",
    "print(obj.add(20), '\\n')\n",
    "print(obj.add(20, 10), '\\n')\n",
    "print(obj.add(20, 10, 20), '\\n')"
   ]
  },
  {
   "cell_type": "markdown",
   "metadata": {},
   "source": [
    "##### Method overriding\n",
    "\n",
    "Method overriding is when a subclass provides its own implementation of a method that is already defined in its parent class. This allows the subclass to modify the behavior of the method without changing its name or signature."
   ]
  },
  {
   "cell_type": "code",
   "execution_count": 55,
   "metadata": {},
   "outputs": [
    {
     "name": "stdout",
     "output_type": "stream",
     "text": [
      "Parent phone is Nokia\n",
      "Child phone is Nothing phone 1\n"
     ]
    }
   ],
   "source": [
    "# Method overriding\n",
    "\n",
    "class Parent:\n",
    "    def phone(self):\n",
    "        print('Parent phone is Nokia')\n",
    "\n",
    "\n",
    "class Child(Parent):\n",
    "    def phone(self): # the child use the same function name of parent class, it will inherited and override the function\n",
    "        print('Child phone is Nothing phone 1')\n",
    "\n",
    "\n",
    "parent = Parent() # parent object\n",
    "child = Child() # child object\n",
    "\n",
    "parent.phone()\n",
    "child.phone()"
   ]
  }
 ],
 "metadata": {
  "kernelspec": {
   "display_name": "Python 3",
   "language": "python",
   "name": "python3"
  },
  "language_info": {
   "codemirror_mode": {
    "name": "ipython",
    "version": 3
   },
   "file_extension": ".py",
   "mimetype": "text/x-python",
   "name": "python",
   "nbconvert_exporter": "python",
   "pygments_lexer": "ipython3",
   "version": "3.12.1"
  }
 },
 "nbformat": 4,
 "nbformat_minor": 2
}
