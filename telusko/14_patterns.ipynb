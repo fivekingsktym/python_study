{
 "cells": [
  {
   "cell_type": "markdown",
   "metadata": {},
   "source": [
    "### patterns in python"
   ]
  },
  {
   "cell_type": "code",
   "execution_count": 9,
   "metadata": {},
   "outputs": [
    {
     "name": "stdout",
     "output_type": "stream",
     "text": [
      "# # # # \n",
      "# # # # \n",
      "# # # # \n",
      "# # # # \n"
     ]
    }
   ],
   "source": [
    "# 1.\n",
    "\n",
    "# # # #\n",
    "# # # #\n",
    "# # # #\n",
    "# # # #\n",
    "\n",
    "for x in range(0, 4):\n",
    "    for y in range(0, 4):\n",
    "        # Print a hash symbol followed by a space, without adding a newline\n",
    "        print(\"# \", end=\"\")\n",
    "\n",
    "    print()"
   ]
  },
  {
   "cell_type": "code",
   "execution_count": 48,
   "metadata": {},
   "outputs": [
    {
     "name": "stdout",
     "output_type": "stream",
     "text": [
      "# \n",
      "# # \n",
      "# # # \n",
      "# # # # \n",
      "# # # # # \n",
      "\n",
      "\n",
      "# \n",
      "# # \n",
      "# # # \n",
      "# # # # \n",
      "# # # # # \n"
     ]
    }
   ],
   "source": [
    "# 2.\n",
    "#\n",
    "# #\n",
    "# # #\n",
    "# # # #\n",
    "# # # # #\n",
    "\n",
    "\n",
    "# case 1\n",
    "for x in range(1, 5+1):\n",
    "    for y in range(x):\n",
    "        print('# ', end=\"\")\n",
    "\n",
    "    print()\n",
    "\n",
    "\n",
    "# case 2\n",
    "print()\n",
    "print()\n",
    "for i in range(1, 6):\n",
    "    print('# '* i)"
   ]
  },
  {
   "cell_type": "code",
   "execution_count": 55,
   "metadata": {},
   "outputs": [
    {
     "name": "stdout",
     "output_type": "stream",
     "text": [
      "# # # # # \n",
      "# # # # \n",
      "# # # \n",
      "# # \n",
      "# \n",
      "\n",
      "\n",
      "# # # # # \n",
      "# # # # \n",
      "# # # \n",
      "# # \n",
      "# \n"
     ]
    }
   ],
   "source": [
    "# 3.\n",
    "# # # # #\n",
    "# # # # \n",
    "# # #\n",
    "# #\n",
    "#\n",
    "\n",
    "# case 1\n",
    "for i in range(1, 6):\n",
    "    for j in range(6-i):\n",
    "        print(\"# \", end=\"\")\n",
    "    \n",
    "    print()\n",
    "\n",
    "\n",
    "# case 2\n",
    "print()\n",
    "print()\n",
    "for i in range(5, 0, -1):\n",
    "        print('# '* i)"
   ]
  }
 ],
 "metadata": {
  "kernelspec": {
   "display_name": "Python 3",
   "language": "python",
   "name": "python3"
  },
  "language_info": {
   "codemirror_mode": {
    "name": "ipython",
    "version": 3
   },
   "file_extension": ".py",
   "mimetype": "text/x-python",
   "name": "python",
   "nbconvert_exporter": "python",
   "pygments_lexer": "ipython3",
   "version": "3.12.1"
  }
 },
 "nbformat": 4,
 "nbformat_minor": 2
}
