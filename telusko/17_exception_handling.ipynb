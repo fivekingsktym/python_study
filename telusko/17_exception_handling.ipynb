{
 "cells": [
  {
   "cell_type": "markdown",
   "metadata": {},
   "source": [
    "### Exception handling in python\n",
    "\n",
    "#### Three types of error:-\n",
    "- Compile time error (syntax errors)\n",
    "- Logical error (Eg: divide by zero)\n",
    "- Runtime error (user errors)"
   ]
  },
  {
   "cell_type": "code",
   "execution_count": 16,
   "metadata": {},
   "outputs": [
    {
     "name": "stdout",
     "output_type": "stream",
     "text": [
      "Hey, you can't divide a number by zero | division by zero\n",
      "Finally, it will be executed once as it does not check any try or except method.\n"
     ]
    }
   ],
   "source": [
    "# logical error - ZeroDivisionError\n",
    "\n",
    "a = 5\n",
    "b = 0\n",
    "\n",
    "try:\n",
    "    print(a/b)\n",
    "\n",
    "# Exception - the \"Exception\" will handle all errors\n",
    "except Exception as e: # it only executed when the try block have an error\n",
    "    print(\"Hey, you can\\'t divide a number by zero |\", e)\n",
    "\n",
    "finally:\n",
    "    print('Finally, it will be executed once as it does not check any try or except method.')\n",
    "\n"
   ]
  },
  {
   "cell_type": "code",
   "execution_count": 32,
   "metadata": {},
   "outputs": [
    {
     "name": "stdout",
     "output_type": "stream",
     "text": [
      "2.5\n",
      "\n",
      "Hey, you entered invalid input | invalid literal for int() with base 10: 'dgsdssg'\n",
      "\n",
      "Finally, it will be executed once as it does not check any try or except method.\n"
     ]
    }
   ],
   "source": [
    "# logical error - ZeroDivisionError\n",
    "\n",
    "a = 5\n",
    "b = 2\n",
    "\n",
    "try:\n",
    "    print(a/b)\n",
    "    c = int(input(\"Enter a number\"))\n",
    "    print(c)\n",
    "\n",
    "# only handle ZeroDivisionError\n",
    "except ZeroDivisionError as e: # it only executed when the try block have an error\n",
    "    print(\"Hey, you can\\'t divide a number by zero |\", e)\n",
    "\n",
    "# only handle ValueError (maybe datatype - type convertion errors)\n",
    "except ValueError as e :\n",
    "    print(\"\\nHey, you entered invalid input |\", e)\n",
    "\n",
    "finally:\n",
    "    print('\\nFinally, it will be executed once as it does not check any try or except method.')\n",
    "\n"
   ]
  }
 ],
 "metadata": {
  "kernelspec": {
   "display_name": "Python 3",
   "language": "python",
   "name": "python3"
  },
  "language_info": {
   "codemirror_mode": {
    "name": "ipython",
    "version": 3
   },
   "file_extension": ".py",
   "mimetype": "text/x-python",
   "name": "python",
   "nbconvert_exporter": "python",
   "pygments_lexer": "ipython3",
   "version": "3.12.1"
  }
 },
 "nbformat": 4,
 "nbformat_minor": 2
}
