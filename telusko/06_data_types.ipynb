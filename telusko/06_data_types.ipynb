{
 "cells": [
  {
   "cell_type": "markdown",
   "metadata": {},
   "source": [
    "### Data types in python\n",
    "None, Numeric, List, Tuple, Set, Dictionary, String, Range "
   ]
  },
  {
   "cell_type": "code",
   "execution_count": 8,
   "metadata": {},
   "outputs": [
    {
     "name": "stdout",
     "output_type": "stream",
     "text": [
      "a is :  None\n"
     ]
    }
   ],
   "source": [
    "# 1:- None - in python \"None\" is equivalent to \"null\"\n",
    "\n",
    "a = None\n",
    "print('a is : ', a)"
   ]
  },
  {
   "cell_type": "code",
   "execution_count": 53,
   "metadata": {},
   "outputs": [
    {
     "name": "stdout",
     "output_type": "stream",
     "text": [
      "10 is a datatype of  <class 'int'> \n",
      "\n",
      "5.2333 is a datatype of  <class 'float'>\n",
      "# Option 1: Using string formatting\n",
      "5.2 is a datatype of  <class 'float'>\n",
      "5.2 is a datatype of  <class 'float'> \n",
      "\n",
      "(6+9j) is a datatype of  <class 'complex'>\n",
      "(3+4j) is a datatype of  <class 'complex'> \n",
      "\n",
      "bool_1 is :  True , datatype is  <class 'bool'> and  True denote as 1 | 1\n",
      "if a > b :  False , datatype is  <class 'bool'> and  False denote as 0 | 0\n"
     ]
    }
   ],
   "source": [
    "# 2:- Numeric -> int, float, complex, bool\n",
    "\n",
    "# int --------------\n",
    "int_num = 10\n",
    "print(int_num, 'is a datatype of ', type(int_num), \"\\n\")\n",
    "\n",
    "# float -------------\n",
    "float_num = 5.2333\n",
    "print(float_num, 'is a datatype of ', type(float_num))\n",
    "print(\"# Option 1: Using string formatting\")\n",
    "print(f\"{float_num:.1f}\", 'is a datatype of ', type(float_num))\n",
    "print(round(float_num, 1), 'is a datatype of ', type(float_num), \"\\n\")\n",
    "\n",
    "# complex number -----------\n",
    "# 1. Direct assignment: Assign a value to a variable directly in the form (x + yj), where x and y are real numbers.\n",
    "complex_num = 6+9j\n",
    "print(complex_num, 'is a datatype of ', type(complex_num))\n",
    "\n",
    "# 2. complex() function: Use the complex(real, imag) function to explicitly specify the real and imaginary parts.\n",
    "complex_num2 = complex(3, 4)\n",
    "print(complex_num2, 'is a datatype of ', type(complex_num2), \"\\n\")\n",
    "\n",
    "# bool ---------------\n",
    "bool_1 = True\n",
    "\n",
    "a, b = 10, 20\n",
    "bool_2 = a > b\n",
    "print('bool_1 is : ', bool_1, \", datatype is \", type(bool_1), \"and  True denote as 1 |\", int(True))\n",
    "print('if a > b : ', bool_2, \", datatype is \", type(bool_2), \"and  False denote as 0 |\", int(False))\n"
   ]
  }
 ],
 "metadata": {
  "kernelspec": {
   "display_name": "Python 3",
   "language": "python",
   "name": "python3"
  },
  "language_info": {
   "codemirror_mode": {
    "name": "ipython",
    "version": 3
   },
   "file_extension": ".py",
   "mimetype": "text/x-python",
   "name": "python",
   "nbconvert_exporter": "python",
   "pygments_lexer": "ipython3",
   "version": "3.10.8"
  }
 },
 "nbformat": 4,
 "nbformat_minor": 2
}
