{
 "cells": [
  {
   "cell_type": "markdown",
   "metadata": {},
   "source": [
    "### Data types in python\n",
    "None, Numeric, List, Tuple, Set, String, Range, Dictionary"
   ]
  },
  {
   "cell_type": "markdown",
   "metadata": {},
   "source": [
    "None"
   ]
  },
  {
   "cell_type": "code",
   "execution_count": 8,
   "metadata": {},
   "outputs": [
    {
     "name": "stdout",
     "output_type": "stream",
     "text": [
      "a is :  None\n"
     ]
    }
   ],
   "source": [
    "# 1:- None - in python \"None\" is equivalent to \"null\"\n",
    "\n",
    "a = None\n",
    "print('a is : ', a)"
   ]
  },
  {
   "cell_type": "markdown",
   "metadata": {},
   "source": [
    "Numeric"
   ]
  },
  {
   "cell_type": "code",
   "execution_count": 11,
   "metadata": {},
   "outputs": [
    {
     "name": "stdout",
     "output_type": "stream",
     "text": [
      "10 is a datatype of  <class 'int'> \n",
      "\n",
      "5.2333 is a datatype of  <class 'float'>\n",
      "# Option 1: Using string formatting\n",
      "5.2 is a datatype of  <class 'float'>\n",
      "5.2 is a datatype of  <class 'float'> \n",
      "\n",
      "(6+9j) is a datatype of  <class 'complex'>\n",
      "(3+4j) is a datatype of  <class 'complex'> \n",
      "\n",
      "bool_1 is :  True , datatype is  <class 'bool'> and  True denote as 1, when convert to int format | 1\n",
      "if a > b :  False , datatype is  <class 'bool'> and  False denote as 0, when convert to int format | 0\n"
     ]
    }
   ],
   "source": [
    "# 2:- Numeric -> int, float, complex, bool\n",
    "\n",
    "# int --------------\n",
    "int_num = 10\n",
    "print(int_num, 'is a datatype of ', type(int_num), \"\\n\")\n",
    "\n",
    "# float -------------\n",
    "float_num = 5.2333\n",
    "print(float_num, 'is a datatype of ', type(float_num))\n",
    "print(\"# Option 1: Using string formatting\")\n",
    "print(f\"{float_num:.1f}\", 'is a datatype of ', type(float_num))\n",
    "print(round(float_num, 1), 'is a datatype of ', type(float_num), \"\\n\")\n",
    "\n",
    "# complex number -----------\n",
    "# 1. Direct assignment: Assign a value to a variable directly in the form (x + yj), where x and y are real numbers.\n",
    "complex_num = 6+9j\n",
    "print(complex_num, 'is a datatype of ', type(complex_num))\n",
    "\n",
    "# 2. complex() function: Use the complex(real, imag) function to explicitly specify the real and imaginary parts.\n",
    "complex_num2 = complex(3, 4)\n",
    "print(complex_num2, 'is a datatype of ', type(complex_num2), \"\\n\")\n",
    "\n",
    "# bool ---------------\n",
    "bool_1 = True\n",
    "\n",
    "a, b = 10, 20\n",
    "bool_2 = a > b\n",
    "print('bool_1 is : ', bool_1, \", datatype is \", type(bool_1), \"and  True denote as 1, when convert to int format |\", int(True))\n",
    "print('if a > b : ', bool_2, \", datatype is \", type(bool_2), \"and  False denote as 0, when convert to int format |\", int(False))\n"
   ]
  },
  {
   "cell_type": "markdown",
   "metadata": {},
   "source": [
    "### List, Tuple, Set, String, Range - these are called sequence"
   ]
  },
  {
   "cell_type": "markdown",
   "metadata": {},
   "source": [
    "List"
   ]
  },
  {
   "cell_type": "code",
   "execution_count": 17,
   "metadata": {},
   "outputs": [
    {
     "name": "stdout",
     "output_type": "stream",
     "text": [
      "List is :  ['python', 'java', 'php'] <class 'list'>\n"
     ]
    }
   ],
   "source": [
    "# list\n",
    "_list = ['python', 'java', 'php']\n",
    "print('List is : ', _list, type(_list))"
   ]
  },
  {
   "cell_type": "markdown",
   "metadata": {},
   "source": [
    "Tuple"
   ]
  },
  {
   "cell_type": "code",
   "execution_count": 19,
   "metadata": {},
   "outputs": [
    {
     "name": "stdout",
     "output_type": "stream",
     "text": [
      "Tuple is :  (23, 'car', 12, 45) <class 'tuple'>\n"
     ]
    }
   ],
   "source": [
    "_tuple = (23, 'car', 12, 45)\n",
    "print('Tuple is : ', _tuple, type(_tuple))"
   ]
  },
  {
   "cell_type": "markdown",
   "metadata": {},
   "source": [
    "Set"
   ]
  },
  {
   "cell_type": "code",
   "execution_count": 20,
   "metadata": {},
   "outputs": [
    {
     "name": "stdout",
     "output_type": "stream",
     "text": [
      "Set is :  {1, 2, 3, 4, 5, 6} <class 'set'>\n"
     ]
    }
   ],
   "source": [
    "_set = {1, 2, 3, 4, 5, 6}\n",
    "print('Set is : ', _set, type(_set))"
   ]
  },
  {
   "cell_type": "markdown",
   "metadata": {},
   "source": [
    "String"
   ]
  },
  {
   "cell_type": "code",
   "execution_count": 21,
   "metadata": {},
   "outputs": [
    {
     "name": "stdout",
     "output_type": "stream",
     "text": [
      "List is :  hello world <class 'str'>\n"
     ]
    }
   ],
   "source": [
    "_string = 'hello world'\n",
    "print('List is : ', _string, type(_string))"
   ]
  },
  {
   "cell_type": "markdown",
   "metadata": {},
   "source": [
    "Range(starting_num, ending_num, num_difference)"
   ]
  },
  {
   "cell_type": "code",
   "execution_count": 65,
   "metadata": {},
   "outputs": [
    {
     "name": "stdout",
     "output_type": "stream",
     "text": [
      "<class 'range'> \n",
      "\n",
      "[0, 1, 2, 3, 4, 5, 6, 7, 8, 9]\n",
      "(0, 1, 2, 3, 4, 5, 6, 7, 8, 9)\n",
      "{0, 1, 2, 3, 4, 5, 6, 7, 8, 9} \n",
      "\n",
      "[0, 2, 4, 6, 8, 10, 12, 14, 16, 18]\n",
      "(0, 4, 8, 12, 16)\n",
      "{0, 10, 5, 15}\n"
     ]
    }
   ],
   "source": [
    "print(type(range(1, 5)), '\\n')\n",
    "\n",
    "\n",
    "print(list(range(0, 10)))\n",
    "print(tuple(range(0, 10)))\n",
    "print(set(range(0, 10)), \"\\n\", )\n",
    "\n",
    "\n",
    "print(list(range(0, 20, 2)))\n",
    "print(tuple(range(0, 20, 4)))\n",
    "print(set(range(0, 20, 5)))\n"
   ]
  },
  {
   "cell_type": "markdown",
   "metadata": {},
   "source": [
    "#### Dictionary"
   ]
  },
  {
   "cell_type": "code",
   "execution_count": 59,
   "metadata": {},
   "outputs": [
    {
     "name": "stdout",
     "output_type": "stream",
     "text": [
      "dictionary is : {'name': 'Sam', 'age': '24', 'phone': '9999999999'} \n",
      "\n",
      "dictionary accessing a key value: Sam\n",
      "dictionary accessing a key value using get method: Sam\n"
     ]
    }
   ],
   "source": [
    "_dict = {'name': 'Sam', 'age': '24', 'phone' : '9999999999'}\n",
    "print('dictionary is :', _dict, \"\\n\")\n",
    "\n",
    "\n",
    "print('dictionary accessing a key value:', _dict['name']) # both two are give the same result\n",
    "print('dictionary accessing a key value using get method:', _dict.get('name')) # both two are give the same result\n"
   ]
  }
 ],
 "metadata": {
  "kernelspec": {
   "display_name": "Python 3",
   "language": "python",
   "name": "python3"
  },
  "language_info": {
   "codemirror_mode": {
    "name": "ipython",
    "version": 3
   },
   "file_extension": ".py",
   "mimetype": "text/x-python",
   "name": "python",
   "nbconvert_exporter": "python",
   "pygments_lexer": "ipython3",
   "version": "3.10.8"
  }
 },
 "nbformat": 4,
 "nbformat_minor": 2
}
